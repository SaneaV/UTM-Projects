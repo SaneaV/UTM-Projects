{
 "cells": [
  {
   "cell_type": "markdown",
   "id": "1adc969b0dee9da6",
   "metadata": {},
   "source": [
    "Студент: Вичев Александр\n",
    "\n",
    "Проект по созданию линейной модели для зарплаты работников:\n",
    "\n",
    "1. Импорт данных"
   ]
  },
  {
   "cell_type": "code",
   "id": "8e984440e72a0a7f",
   "metadata": {},
   "source": [
    "import pandas as pd\n",
    "import numpy as np\n",
    "import matplotlib.pyplot as plt\n",
    "import seaborn as sns\n",
    "%matplotlib inline"
   ],
   "outputs": [],
   "execution_count": null
  },
  {
   "cell_type": "markdown",
   "id": "161e1a1289658080",
   "metadata": {},
   "source": [
    "2. Получение данных"
   ]
  },
  {
   "cell_type": "code",
   "id": "ca76e61771a77910",
   "metadata": {},
   "source": [
    "salary = pd.read_csv('Salary_Data.csv')\n",
    "salary = salary.dropna()"
   ],
   "outputs": [],
   "execution_count": null
  },
  {
   "cell_type": "markdown",
   "id": "6b0349bb3afbac2c",
   "metadata": {},
   "source": [
    "Просматриваем первые строки и информацию о данных:"
   ]
  },
  {
   "cell_type": "code",
   "id": "initial_id",
   "metadata": {},
   "source": [
    "print(salary.head())\n",
    "print(salary.info())\n",
    "print(salary.describe())"
   ],
   "outputs": [],
   "execution_count": null
  },
  {
   "cell_type": "markdown",
   "id": "ea15d2d8634f8d8c",
   "metadata": {},
   "source": [
    "3. Исследовательский анализ данных\n",
    "\n",
    "Шаг 4: Опыт работы (Years of Experience) и зарплаты (Salary)\n",
    "\n",
    "На графике ниже представлено отношение опыта работы и заработка. И мы видим чёткую зависимость от опыта работника и уровня его дохода."
   ]
  },
  {
   "cell_type": "code",
   "id": "ac256135de7d1edb",
   "metadata": {},
   "source": [
    "sns.jointplot(x='Years of Experience', y='Salary', data=salary)\n",
    "plt.show()"
   ],
   "outputs": [],
   "execution_count": null
  },
  {
   "cell_type": "markdown",
   "id": "77820bd5b6c59c5d",
   "metadata": {},
   "source": [
    "Шаг 5: Сравнение возраста (Age) и зарплаты (Salary)\n",
    "\n",
    "На графике ниже представлено отношение возраста и заработка. И мы видим что возраст работника практически не влияет на уровень его заработка."
   ]
  },
  {
   "cell_type": "code",
   "id": "fa319a8dbe43e4e4",
   "metadata": {},
   "source": [
    "sns.jointplot(x='Age', y='Salary', data=salary)\n",
    "plt.show()"
   ],
   "outputs": [],
   "execution_count": null
  },
  {
   "cell_type": "markdown",
   "id": "40264a31d19d3578",
   "metadata": {},
   "source": [
    "Шаг 6: Сравнение опыта работа (Years of Experience) и опыта (Experience) в 2D"
   ]
  },
  {
   "cell_type": "code",
   "id": "7385887c5677299c",
   "metadata": {},
   "source": [
    "sns.jointplot(x='Years of Experience', y='Salary', kind='hex', data=salary)\n",
    "plt.show()"
   ],
   "outputs": [],
   "execution_count": null
  },
  {
   "cell_type": "markdown",
   "id": "8f22507d93c45dec",
   "metadata": {},
   "source": [
    "Шаг 7: Исследование взаимосвязей"
   ]
  },
  {
   "cell_type": "code",
   "id": "f371e639099cf47a",
   "metadata": {},
   "source": [
    "sns.pairplot(salary)\n",
    "plt.show()"
   ],
   "outputs": [],
   "execution_count": null
  },
  {
   "cell_type": "markdown",
   "id": "5457236bce764e7c",
   "metadata": {},
   "source": [
    "На основе графиков можно определить, какая характеристика наиболее коррелирует с Salary.\n",
    "\n",
    "Шаг 8: Линейная регрессия для Experience и Salary"
   ]
  },
  {
   "cell_type": "code",
   "id": "ba81b68e03d8c1da",
   "metadata": {},
   "source": [
    "sns.lmplot(x='Years of Experience', y='Salary', data=salary)\n",
    "plt.show()"
   ],
   "outputs": [],
   "execution_count": null
  },
  {
   "cell_type": "markdown",
   "id": "e349586010c3bcdd",
   "metadata": {},
   "source": [
    "4. Обучающие и тестовые данные\n",
    "\n",
    "Шаг 9: Разделение набора данных"
   ]
  },
  {
   "cell_type": "code",
   "id": "bdcbc7a4629da900",
   "metadata": {},
   "source": [
    "from sklearn.model_selection import train_test_split\n",
    "\n",
    "X = salary[['Age', 'Years of Experience']]\n",
    "y = salary['Salary']\n",
    "\n",
    "X_train, X_test, y_train, y_test = train_test_split(X, y, test_size=0.3, random_state=101)"
   ],
   "outputs": [],
   "execution_count": null
  },
  {
   "cell_type": "markdown",
   "id": "1300ae3d974024fc",
   "metadata": {},
   "source": [
    "5. Обучение модели\n",
    "\n",
    "Шаг 10-12: Обучение модели LinearRegression"
   ]
  },
  {
   "cell_type": "code",
   "id": "535d74736a3b3b9d",
   "metadata": {},
   "source": [
    "from sklearn.linear_model import LinearRegression\n",
    "\n",
    "X_train.dropna()\n",
    "lm = LinearRegression()\n",
    "lm.fit(X_train, y_train)"
   ],
   "outputs": [],
   "execution_count": null
  },
  {
   "cell_type": "markdown",
   "id": "297b6f397a338c1c",
   "metadata": {},
   "source": [
    "Шаг 13: Коэффициенты модели"
   ]
  },
  {
   "cell_type": "code",
   "id": "921e58c94246c358",
   "metadata": {},
   "source": [
    "print(lm.coef_)"
   ],
   "outputs": [],
   "execution_count": null
  },
  {
   "cell_type": "markdown",
   "id": "9b4819987ed98d18",
   "metadata": {},
   "source": [
    "6. Прогнозирование данных теста\n",
    "\n",
    "Шаг 14: Прогнозирование тестовых значений"
   ]
  },
  {
   "cell_type": "code",
   "id": "49ea3f443e36054",
   "metadata": {},
   "source": [
    "predictions = lm.predict(X_test)"
   ],
   "outputs": [],
   "execution_count": null
  },
  {
   "cell_type": "markdown",
   "id": "55b2ba96a1f061c9",
   "metadata": {},
   "source": [
    "Шаг 15: Создание диаграммы рассеяния реальных и предсказанных значений\n"
   ]
  },
  {
   "cell_type": "code",
   "id": "fe31589f6845a79c",
   "metadata": {},
   "source": [
    "plt.scatter(y_test, predictions)\n",
    "plt.xlabel('Y Test')\n",
    "plt.ylabel('Predictions')\n",
    "plt.show()"
   ],
   "outputs": [],
   "execution_count": null
  },
  {
   "cell_type": "markdown",
   "id": "42d656d04238ed86",
   "metadata": {},
   "source": [
    "7. Оценка модели"
   ]
  },
  {
   "cell_type": "code",
   "id": "68fec819f1e5a64c",
   "metadata": {},
   "source": [
    "from sklearn import metrics\n",
    "\n",
    "MAE = metrics.mean_absolute_error(y_test, predictions)\n",
    "MSE = metrics.mean_squared_error(y_test, predictions)\n",
    "RMSE = np.sqrt(MSE)\n",
    "\n",
    "print('MAE:', MAE)\n",
    "print('MSE:', MSE)\n",
    "print('RMSE:', RMSE)"
   ],
   "outputs": [],
   "execution_count": null
  },
  {
   "cell_type": "markdown",
   "id": "eebb20e9d24a7675",
   "metadata": {},
   "source": [
    "8. Остатки\n",
    "Шаг 17: Распределение остатков"
   ]
  },
  {
   "cell_type": "code",
   "id": "156db99a38d01e25",
   "metadata": {},
   "source": [
    "sns.histplot((y_test - predictions), bins=50, kde=True)\n",
    "plt.show()"
   ],
   "outputs": [],
   "execution_count": null
  },
  {
   "cell_type": "markdown",
   "id": "a6d90a8b6da58b85",
   "metadata": {},
   "source": [
    "9. Заключение\n",
    "Шаг 18-20: Интерпретация коэффициентов и выводы"
   ]
  },
  {
   "cell_type": "code",
   "id": "8b24a79759b28ecd",
   "metadata": {},
   "source": [
    "coefficients = pd.DataFrame(lm.coef_, X.columns, columns=['Coefficient'])\n",
    "print(coefficients)"
   ],
   "outputs": [],
   "execution_count": null
  },
  {
   "cell_type": "markdown",
   "id": "4a44e16946dd945",
   "metadata": {},
   "source": [
    "Интерпретация:\n",
    "Experience скорее всего будет иметь значительный положительный коэффициент, что указывает на зависимость зарплаты от опыта.\n",
    "Age может иметь меньший эффект, если опыт будет играть более важную роль.\n",
    "\n",
    "Вывод:\n",
    "Компания может сосредоточиться на увеличении зарплат для сотрудников с большим опытом, хотя возраст также может играть роль."
   ]
  }
 ],
 "metadata": {
  "kernelspec": {
   "display_name": "Python 3 (ipykernel)",
   "language": "python",
   "name": "python3"
  },
  "language_info": {
   "codemirror_mode": {
    "name": "ipython",
    "version": 3
   },
   "file_extension": ".py",
   "mimetype": "text/x-python",
   "name": "python",
   "nbconvert_exporter": "python",
   "pygments_lexer": "ipython3",
   "version": "3.12.2"
  }
 },
 "nbformat": 4,
 "nbformat_minor": 5
}
