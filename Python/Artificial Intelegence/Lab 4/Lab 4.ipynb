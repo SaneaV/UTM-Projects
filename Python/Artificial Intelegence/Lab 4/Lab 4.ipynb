{
 "cells": [
  {
   "cell_type": "markdown",
   "metadata": {
    "papermill": {
     "duration": 0.043606,
     "end_time": "2020-09-26T15:46:01.702278",
     "exception": false,
     "start_time": "2020-09-26T15:46:01.658672",
     "status": "completed"
    },
    "tags": []
   },
   "source": [
    "<hr/>\n",
    "\n",
    "# Прогнозирование цен на жильё (Keras - Искусственная нейронная сеть)."
   ]
  },
  {
   "cell_type": "markdown",
   "metadata": {
    "papermill": {
     "duration": 0.035833,
     "end_time": "2020-09-26T15:46:01.776524",
     "exception": false,
     "start_time": "2020-09-26T15:46:01.740691",
     "status": "completed"
    },
    "tags": []
   },
   "source": [
    "<a id=\"ch1\"></a>\n",
    "## Обзор \n",
    "<hr/>\n",
    "\n",
    "Одна из целей этого notebook — пошагово показать, как анализировать и визуализировать набор данных для прогнозирования будущих цен на жилье. Кроме того, объяснено большинство используемых понятий, чтобы понимать, почему они применяются.\n",
    "\n",
    "На основе таких характеристик, как жилая площадь (sqft_living), количество ванных комнат, спален, вид и других, мы построим модель глубокого обучения, которая сможет предсказывать будущие цены на дома."
   ]
  },
  {
   "cell_type": "markdown",
   "metadata": {
    "papermill": {
     "duration": 0.035894,
     "end_time": "2020-09-26T15:46:01.848901",
     "exception": false,
     "start_time": "2020-09-26T15:46:01.813007",
     "status": "completed"
    },
    "tags": []
   },
   "source": [
    "<a id=\"ch2\"></a>\n",
    "## Набор данных.\n",
    "<hr/>\n",
    "\n",
    "* Этот набор данных содержит цены на продажу домов в округе Кинг, включая Сиэтл.\n",
    "* Он включает дома, проданные с мая 2014 года по май 2015 года.\n",
    "* 21 столбец (признаки).\n",
    "* 21597 строк.\n",
    "\n",
    "***Столбцы признаков***\n",
    "\n",
    "* **id:** Уникальный идентификатор для каждого проданного дома\n",
    "* **date:** Дата продажи дома\n",
    "* **price:** Цена каждого проданного дома\n",
    "* **bedrooms:** Количество спален\n",
    "* **bathrooms:** Количество ванных комнат, где .5 учитывает комнату с туалетом, но без душа\n",
    "* **sqft_living:** Площадь жилого пространства внутри квартиры в квадратных футах\n",
    "* **sqft_lot:** Площадь земельного участка в квадратных футах\n",
    "* **floors:** Количество этажей\n",
    "* **waterfront:** Думми-переменная, показывающая, выходила ли квартира на набережную или нет\n",
    "* **view:** Индекс от 0 до 4, показывающий качество вида с недвижимости\n",
    "* **condition:** Индекс от 1 до 5, оценивающий состояние квартиры\n",
    "* **grade:** Индекс от 1 до 13, где 1-3 не соответствуют строительным нормам и дизайну, 7 имеет средний уровень строительства и дизайна, а 11-13 имеют высокий уровень качества строительства и дизайна.\n",
    "* **sqft_above:** Площадь жилого пространства внутри квартиры, находящейся над уровнем земли\n",
    "* **sqft_basement:** Площадь жилого пространства внутри квартиры, находящейся ниже уровня земли\n",
    "* **yr_built:** Год, когда дом был первоначально построен\n",
    "* **yr_renovated:** Год последнего ремонта дома\n",
    "* **zipcode:** Почтовый индекс района, в котором находится дом\n",
    "* **lat:** Широта\n",
    "* **long:** Долгота\n",
    "* **sqft_living15:** Площадь жилого пространства для ближайших 15 соседей в квадратных футах\n",
    "* **sqft_lot15:** Площадь земельных участков ближайших 15 соседей в квадратных футах"
   ]
  },
  {
   "cell_type": "markdown",
   "metadata": {
    "papermill": {
     "duration": 0.036163,
     "end_time": "2020-09-26T15:46:01.921281",
     "exception": false,
     "start_time": "2020-09-26T15:46:01.885118",
     "status": "completed"
    },
    "tags": []
   },
   "source": "### Импорты"
  },
  {
   "cell_type": "code",
   "metadata": {
    "execution": {
     "iopub.execute_input": "2020-09-26T15:46:02.008597Z",
     "iopub.status.busy": "2020-09-26T15:46:02.007564Z",
     "iopub.status.idle": "2020-09-26T15:46:09.341681Z",
     "shell.execute_reply": "2020-09-26T15:46:09.340815Z"
    },
    "papermill": {
     "duration": 7.384385,
     "end_time": "2020-09-26T15:46:09.341813",
     "exception": false,
     "start_time": "2020-09-26T15:46:01.957428",
     "status": "completed"
    },
    "tags": []
   },
   "source": [
    "# анализ и обработка данных\n",
    "import pandas as pd\n",
    "import numpy as np\n",
    "\n",
    "# визуализация\n",
    "import seaborn as sns\n",
    "import matplotlib.pyplot as plt\n",
    "%matplotlib inline\n",
    "\n",
    "# масштабирование и разделение на обучающую и тестовую выборки\n",
    "from sklearn.model_selection import train_test_split\n",
    "from sklearn.preprocessing import MinMaxScaler\n",
    "\n",
    "# создание модели\n",
    "from tensorflow.keras.models import Sequential\n",
    "from tensorflow.keras.layers import Dense\n",
    "\n",
    "# оценка на тестовых данных\n",
    "from sklearn.metrics import mean_squared_error, mean_absolute_error, explained_variance_score\n"
   ],
   "outputs": [],
   "execution_count": null
  },
  {
   "cell_type": "markdown",
   "metadata": {
    "papermill": {
     "duration": 0.035825,
     "end_time": "2020-09-26T15:46:09.414452",
     "exception": false,
     "start_time": "2020-09-26T15:46:09.378627",
     "status": "completed"
    },
    "tags": []
   },
   "source": [
    "### Получение данных\n",
    "Пакет Python Pandas помогает нам работать с нашими наборами данных. Мы начинаем с получения наборов данных в DataFrame Pandas."
   ]
  },
  {
   "cell_type": "code",
   "metadata": {
    "execution": {
     "iopub.execute_input": "2020-09-26T15:46:09.497332Z",
     "iopub.status.busy": "2020-09-26T15:46:09.496516Z",
     "iopub.status.idle": "2020-09-26T15:46:09.602833Z",
     "shell.execute_reply": "2020-09-26T15:46:09.602071Z"
    },
    "papermill": {
     "duration": 0.152415,
     "end_time": "2020-09-26T15:46:09.602987",
     "exception": false,
     "start_time": "2020-09-26T15:46:09.450572",
     "status": "completed"
    },
    "tags": []
   },
   "source": "df = pd.read_csv('kc_house_data.csv')",
   "outputs": [],
   "execution_count": null
  },
  {
   "metadata": {},
   "cell_type": "markdown",
   "source": [
    "### Анализ данных через описание\n",
    "Pandas также помогает описывать наборы данных, отвечая на следующие вопросы в начале нашего проекта.\n",
    "\n",
    "***Какие признаки доступны в наборе данных?***"
   ]
  },
  {
   "cell_type": "code",
   "metadata": {
    "_kg_hide-input": false,
    "_kg_hide-output": false,
    "execution": {
     "iopub.execute_input": "2020-09-26T15:46:09.757350Z",
     "iopub.status.busy": "2020-09-26T15:46:09.756237Z",
     "iopub.status.idle": "2020-09-26T15:46:09.760792Z",
     "shell.execute_reply": "2020-09-26T15:46:09.761685Z"
    },
    "papermill": {
     "duration": 0.04854,
     "end_time": "2020-09-26T15:46:09.761914",
     "exception": false,
     "start_time": "2020-09-26T15:46:09.713374",
     "status": "completed"
    },
    "tags": []
   },
   "source": [
    "print(df.columns.values)"
   ],
   "outputs": [],
   "execution_count": null
  },
  {
   "cell_type": "markdown",
   "metadata": {
    "papermill": {
     "duration": 0.037442,
     "end_time": "2020-09-26T15:46:09.838519",
     "exception": false,
     "start_time": "2020-09-26T15:46:09.801077",
     "status": "completed"
    },
    "tags": []
   },
   "source": [
    "***Какие признаки являются категориальными?***\n",
    "\n",
    "Эти значения классифицируют образцы на наборы схожих образцов. В категориальных признаках значения могут быть номинальными, порядковыми, основанными на соотношении или интервале. Это помогает нам выбирать соответствующие графики для визуализации.\n",
    "\n",
    "* Категориальные: id, waterfront, zipcode.\n",
    "\n",
    "***Какие признаки являются числовыми?***\n",
    "\n",
    "Эти значения меняются от образца к образцу. В числовых признаках значения могут быть дискретными, непрерывными или временными рядами. Это также помогает нам выбирать соответствующие графики для визуализации.\n",
    "\n",
    "* Непрерывные: price, bathrooms, floors, lat, long.\n",
    "* Дискретные: date, bedrooms, sqft_living, sqft_lot, view, condition, grade, sqft_above, sqft_basement, yr_built, yr_renovated, sqft_living15, sqft_lot15."
   ]
  },
  {
   "cell_type": "code",
   "metadata": {
    "execution": {
     "iopub.execute_input": "2020-09-26T15:46:09.940368Z",
     "iopub.status.busy": "2020-09-26T15:46:09.934619Z",
     "iopub.status.idle": "2020-09-26T15:46:09.964281Z",
     "shell.execute_reply": "2020-09-26T15:46:09.963428Z"
    },
    "papermill": {
     "duration": 0.08832,
     "end_time": "2020-09-26T15:46:09.964430",
     "exception": false,
     "start_time": "2020-09-26T15:46:09.876110",
     "status": "completed"
    },
    "tags": []
   },
   "source": [
    "# Предварительный просмотр данных\n",
    "\n",
    "df.head()"
   ],
   "outputs": [],
   "execution_count": null
  },
  {
   "cell_type": "code",
   "metadata": {
    "execution": {
     "iopub.execute_input": "2020-09-26T15:46:10.071717Z",
     "iopub.status.busy": "2020-09-26T15:46:10.068941Z",
     "iopub.status.idle": "2020-09-26T15:46:10.077309Z",
     "shell.execute_reply": "2020-09-26T15:46:10.076536Z"
    },
    "papermill": {
     "duration": 0.074347,
     "end_time": "2020-09-26T15:46:10.077446",
     "exception": false,
     "start_time": "2020-09-26T15:46:10.003099",
     "status": "completed"
    },
    "tags": []
   },
   "source": [
    "# Предварительный просмотр данных\n",
    "\n",
    "df.tail()"
   ],
   "outputs": [],
   "execution_count": null
  },
  {
   "cell_type": "markdown",
   "metadata": {
    "papermill": {
     "duration": 0.038983,
     "end_time": "2020-09-26T15:46:10.156247",
     "exception": false,
     "start_time": "2020-09-26T15:46:10.117264",
     "status": "completed"
    },
    "tags": []
   },
   "source": [
    "***Какие признаки содержат пустые, нулевые или отсутствующие значения?***\n",
    "\n",
    "Мы можем проверить наличие пропущенных значений с помощью метода `isnull()` в pandas. Это указывает, отсутствуют ли значения. Затем мы можем просуммировать все значения, чтобы проверить каждую колонку."
   ]
  },
  {
   "cell_type": "code",
   "metadata": {
    "execution": {
     "iopub.execute_input": "2020-09-26T15:46:10.244256Z",
     "iopub.status.busy": "2020-09-26T15:46:10.240514Z",
     "iopub.status.idle": "2020-09-26T15:46:10.252553Z",
     "shell.execute_reply": "2020-09-26T15:46:10.253090Z"
    },
    "papermill": {
     "duration": 0.057466,
     "end_time": "2020-09-26T15:46:10.253298",
     "exception": false,
     "start_time": "2020-09-26T15:46:10.195832",
     "status": "completed"
    },
    "tags": []
   },
   "source": [
    "# Нет пропущенных значений\n",
    "\n",
    "df.isnull().sum()"
   ],
   "outputs": [],
   "execution_count": null
  },
  {
   "cell_type": "markdown",
   "metadata": {
    "papermill": {
     "duration": 0.039809,
     "end_time": "2020-09-26T15:46:10.332812",
     "exception": false,
     "start_time": "2020-09-26T15:46:10.293003",
     "status": "completed"
    },
    "tags": []
   },
   "source": [
    "***Каковы типы данных для различных признаков?***\n",
    "\n",
    "Пять признаков имеют тип данных с плавающей запятой (float), пятнадцать — целочисленный тип (integer), и один — объектный тип (object)."
   ]
  },
  {
   "cell_type": "code",
   "metadata": {
    "execution": {
     "iopub.execute_input": "2020-09-26T15:46:10.419717Z",
     "iopub.status.busy": "2020-09-26T15:46:10.418954Z",
     "iopub.status.idle": "2020-09-26T15:46:10.441822Z",
     "shell.execute_reply": "2020-09-26T15:46:10.440994Z"
    },
    "papermill": {
     "duration": 0.068873,
     "end_time": "2020-09-26T15:46:10.441959",
     "exception": false,
     "start_time": "2020-09-26T15:46:10.373086",
     "status": "completed"
    },
    "tags": []
   },
   "source": [
    "df.info()"
   ],
   "outputs": [],
   "execution_count": null
  },
  {
   "cell_type": "markdown",
   "metadata": {
    "papermill": {
     "duration": 0.039846,
     "end_time": "2020-09-26T15:46:10.522500",
     "exception": false,
     "start_time": "2020-09-26T15:46:10.482654",
     "status": "completed"
    },
    "tags": []
   },
   "source": "***Каково распределение значений числовых признаков среди образцов?***"
  },
  {
   "cell_type": "code",
   "metadata": {
    "execution": {
     "iopub.execute_input": "2020-09-26T15:46:10.613354Z",
     "iopub.status.busy": "2020-09-26T15:46:10.612384Z",
     "iopub.status.idle": "2020-09-26T15:46:10.694905Z",
     "shell.execute_reply": "2020-09-26T15:46:10.695546Z"
    },
    "papermill": {
     "duration": 0.133189,
     "end_time": "2020-09-26T15:46:10.695745",
     "exception": false,
     "start_time": "2020-09-26T15:46:10.562556",
     "status": "completed"
    },
    "tags": []
   },
   "source": [
    "df.describe().transpose()"
   ],
   "outputs": [],
   "execution_count": null
  },
  {
   "cell_type": "markdown",
   "metadata": {
    "papermill": {
     "duration": 0.041371,
     "end_time": "2020-09-26T15:46:10.779921",
     "exception": false,
     "start_time": "2020-09-26T15:46:10.738550",
     "status": "completed"
    },
    "tags": []
   },
   "source": [
    "### Предположения на основе анализа данных\n",
    "\n",
    "На основе анализа данных, проведенного до сих пор, мы пришли к следующим предположениям. Мы можем дополнительно проверить эти предположения, прежде чем принимать соответствующие меры.\n",
    "\n",
    "### Корреляция\n",
    "\n",
    "Мы хотим узнать, насколько хорошо каждый признак коррелирует с ценой. Мы хотим сделать это на раннем этапе нашего проекта и сопоставить эти быстрые корреляции с модельными корреляциями позже в проекте.\n",
    "\n",
    "### Заполнение\n",
    "\n",
    "Поскольку отсутствующих значений нет, нам не нужно заполнять никакие значения.\n",
    "\n",
    "### Коррекция\n",
    "\n",
    "Признак id может быть исключён из нашего анализа, так как он не добавляет ценности.  \n",
    "Признак date может быть исключён, поскольку мы собираемся провести инженеринг признаков и создать столбцы для года и месяца.  \n",
    "Признак zipcode является особым случаем: мы могли бы его использовать, но поскольку мы точно не знаем зоны округа Кинг, мы просто исключим его.\n",
    "\n",
    "### Создание\n",
    "\n",
    "Мы можем создать новый признак под названием \"Год\" на основе \"Дата\", чтобы анализировать изменение цен в течение лет.  \n",
    "Мы можем создать новый признак под названием \"Месяц\" на основе \"Дата\", чтобы анализировать изменение цен в течение месяцев."
   ]
  },
  {
   "cell_type": "markdown",
   "metadata": {
    "papermill": {
     "duration": 0.041502,
     "end_time": "2020-09-26T15:46:10.863225",
     "exception": false,
     "start_time": "2020-09-26T15:46:10.821723",
     "status": "completed"
    },
    "tags": []
   },
   "source": [
    "<a id=\"ch3\"></a>\n",
    "## Исследовательский анализ данных\n",
    "<hr/>\n",
    "\n",
    "### Анализ через визуализацию данных\n",
    "Теперь мы можем продолжить подтверждать некоторые из наших предположений, используя визуализацию для анализа данных."
   ]
  },
  {
   "cell_type": "markdown",
   "metadata": {
    "papermill": {
     "duration": 0.041312,
     "end_time": "2020-09-26T15:46:10.946550",
     "exception": false,
     "start_time": "2020-09-26T15:46:10.905238",
     "status": "completed"
    },
    "tags": []
   },
   "source": [
    "### Матрица корреляции Пирсона\n",
    "Мы используем коэффициент корреляции Пирсона для изучения силы и направления линейной зависимости между двумя непрерывными переменными.\n",
    "\n",
    "Коэффициент корреляции может варьироваться от −1 до +1. Чем больше абсолютное значение коэффициента, тем сильнее связь между переменными. Для корреляции Пирсона абсолютное значение 1 указывает на идеальную линейную зависимость. Корреляция, близкая к 0, указывает на отсутствие линейной зависимости между переменными.\n",
    "\n",
    "Знак коэффициента указывает на направление зависимости. Если обе переменные, как правило, увеличиваются или уменьшаются вместе, коэффициент положителен, и линия, представляющая корреляцию, наклонена вверх. Если одна переменная, как правило, увеличивается, в то время как другая уменьшается, коэффициент отрицателен, и линия, представляющая корреляцию, наклонена вниз."
   ]
  },
  {
   "cell_type": "code",
   "metadata": {
    "_kg_hide-input": true,
    "execution": {
     "iopub.execute_input": "2020-09-26T15:46:11.040938Z",
     "iopub.status.busy": "2020-09-26T15:46:11.040128Z",
     "iopub.status.idle": "2020-09-26T15:46:12.927670Z",
     "shell.execute_reply": "2020-09-26T15:46:12.928283Z"
    },
    "papermill": {
     "duration": 1.940115,
     "end_time": "2020-09-26T15:46:12.928462",
     "exception": false,
     "start_time": "2020-09-26T15:46:10.988347",
     "status": "completed"
    },
    "tags": []
   },
   "source": [
    "sns.set_theme(style=\"whitegrid\", font_scale=1)\n",
    "\n",
    "plt.figure(figsize=(13,13))\n",
    "plt.title('Pearson Correlation Matrix',fontsize=25)\n",
    "sns.heatmap(df.corr(),linewidths=0.25,vmax=0.7,square=True,cmap=\"GnBu\",linecolor='w',\n",
    "            annot=True, annot_kws={\"size\":7}, cbar_kws={\"shrink\": .7})\n",
    "plt.show()"
   ],
   "outputs": [],
   "execution_count": null
  },
  {
   "cell_type": "markdown",
   "metadata": {
    "papermill": {
     "duration": 0.046654,
     "end_time": "2020-09-26T15:46:13.022334",
     "exception": false,
     "start_time": "2020-09-26T15:46:12.975680",
     "status": "completed"
    },
    "tags": []
   },
   "source": [
    "### Корреляция с ценой\n",
    "* Это позволяет нам исследовать признаки, которые имеют высокую корреляцию с ценой.\n",
    "* Площадь жилья (sqft_living) выглядит как признак, сильно коррелирующий с ценой, а также grade, sqft_above, sqft_living15 и количество ванных комнат.\n",
    "\n",
    "***Какие признаки имеют более высокую корреляцию с ценой?***"
   ]
  },
  {
   "cell_type": "code",
   "metadata": {
    "_kg_hide-input": true,
    "execution": {
     "iopub.execute_input": "2020-09-26T15:46:13.124889Z",
     "iopub.status.busy": "2020-09-26T15:46:13.124071Z",
     "iopub.status.idle": "2020-09-26T15:46:13.151840Z",
     "shell.execute_reply": "2020-09-26T15:46:13.152681Z"
    },
    "papermill": {
     "duration": 0.083878,
     "end_time": "2020-09-26T15:46:13.152943",
     "exception": false,
     "start_time": "2020-09-26T15:46:13.069065",
     "status": "completed"
    },
    "tags": []
   },
   "source": [
    "price_corr = df.corr()['price'].sort_values(ascending=False)\n",
    "print(price_corr)"
   ],
   "outputs": [],
   "execution_count": null
  },
  {
   "cell_type": "markdown",
   "metadata": {
    "papermill": {
     "duration": 0.047975,
     "end_time": "2020-09-26T15:46:13.250085",
     "exception": false,
     "start_time": "2020-09-26T15:46:13.202110",
     "status": "completed"
    },
    "tags": []
   },
   "source": [
    "### Признак цены\n",
    "* Большинство цен на дома находятся в диапазоне от 0 до 1,500,000 долларов.\n",
    "* Средняя цена дома составляет 540,000 долларов.\n",
    "* Имейте в виду, что может быть разумной идеей исключить крайние значения. Например, мы могли бы сосредоточиться на домах с ценой от 0 до 3,000,000 долларов и исключить остальные.\n",
    "* Похоже, что существует положительная линейная зависимость между ценой и площадью жилья (sqft_living).\n",
    "* Увеличение жилой площади, как правило, соответствует увеличению цены дома."
   ]
  },
  {
   "cell_type": "code",
   "metadata": {
    "_kg_hide-input": true,
    "execution": {
     "iopub.execute_input": "2020-09-26T15:46:13.362099Z",
     "iopub.status.busy": "2020-09-26T15:46:13.354488Z",
     "iopub.status.idle": "2020-09-26T15:46:14.247641Z",
     "shell.execute_reply": "2020-09-26T15:46:14.248269Z"
    },
    "papermill": {
     "duration": 0.950588,
     "end_time": "2020-09-26T15:46:14.248451",
     "exception": false,
     "start_time": "2020-09-26T15:46:13.297863",
     "status": "completed"
    },
    "tags": []
   },
   "source": [
    "f, axes = plt.subplots(1, 2,figsize=(15,5))\n",
    "sns.histplot(df['price'], ax=axes[0], kde=True)\n",
    "sns.scatterplot(x='price',y='sqft_living', data=df, ax=axes[1])\n",
    "sns.despine(bottom=True, left=True)\n",
    "axes[0].set(xlabel='Price in millions [USD]', ylabel='', title='Price Distribuition')\n",
    "axes[1].set(xlabel='Price', ylabel='Sqft Living', title='Price vs Sqft Living')\n",
    "axes[1].yaxis.set_label_position(\"right\")\n",
    "axes[1].yaxis.tick_right()\n",
    "plt.show()"
   ],
   "outputs": [],
   "execution_count": null
  },
  {
   "cell_type": "markdown",
   "metadata": {
    "papermill": {
     "duration": 0.048999,
     "end_time": "2020-09-26T15:46:14.347379",
     "exception": false,
     "start_time": "2020-09-26T15:46:14.298380",
     "status": "completed"
    },
    "tags": []
   },
   "source": [
    "### Боковые диаграммы для количества спален и этажей\n",
    "Боковая диаграмма — это метод графического отображения групп числовых данных через их квартильные значения. Боковые диаграммы могут также иметь линии, выходящие за пределы коробок (усики), указывающие на изменчивость за пределами верхнего и нижнего квартилей, отсюда и термин \"боковая диаграмма с усиками\". Выбросы могут быть отображены как отдельные точки. Расстояния между различными частями коробки указывают на степень разброса (распределения).\n",
    "\n",
    "* Мы можем видеть выбросы, отображённые как отдельные точки; вероятно, это более дорогие дома.\n",
    "* Мы можем наблюдать, что цена, как правило, увеличивается с увеличением количества спален в доме."
   ]
  },
  {
   "cell_type": "code",
   "metadata": {
    "_kg_hide-input": true,
    "execution": {
     "iopub.execute_input": "2020-09-26T15:46:14.458906Z",
     "iopub.status.busy": "2020-09-26T15:46:14.457829Z",
     "iopub.status.idle": "2020-09-26T15:46:15.175103Z",
     "shell.execute_reply": "2020-09-26T15:46:15.175687Z"
    },
    "papermill": {
     "duration": 0.778637,
     "end_time": "2020-09-26T15:46:15.175875",
     "exception": false,
     "start_time": "2020-09-26T15:46:14.397238",
     "status": "completed"
    },
    "tags": []
   },
   "source": [
    "sns.set_theme(style=\"whitegrid\", font_scale=1)\n",
    "\n",
    "f,axes = plt.subplots(1, 2,figsize=(15,5))\n",
    "sns.boxplot(x=df['bedrooms'],y=df['price'], ax=axes[0])\n",
    "sns.boxplot(x=df['floors'],y=df['price'], ax=axes[1])\n",
    "sns.despine(bottom=True, left=True)\n",
    "axes[0].set(xlabel='Bedrooms', ylabel='Price', title='Bedrooms vs Price Box Plot')\n",
    "axes[1].set(xlabel='Floors', ylabel='Price', title='Floors vs Price Box Plot')\n",
    "plt.show()\n"
   ],
   "outputs": [],
   "execution_count": null
  },
  {
   "cell_type": "markdown",
   "metadata": {
    "papermill": {
     "duration": 0.05133,
     "end_time": "2020-09-26T15:46:15.279170",
     "exception": false,
     "start_time": "2020-09-26T15:46:15.227840",
     "status": "completed"
    },
    "tags": []
   },
   "source": [
    "### Боковые диаграммы для объектов у воды, вида и оценки\n",
    "* Дома у воды, как правило, имеют более высокую ценность.\n",
    "* Цена домов у воды, как правило, более разнообразна, тогда как цена домов без вида на воду, наоборот, более сконцентрирована.\n",
    "* Оценка (grade) и наличие вида на воду (waterfront) влияют на цену. Вид (view) кажется менее значимым, но также оказывает влияние на цену."
   ]
  },
  {
   "cell_type": "code",
   "metadata": {
    "_kg_hide-input": true,
    "execution": {
     "iopub.execute_input": "2020-09-26T15:46:15.563451Z",
     "iopub.status.busy": "2020-09-26T15:46:15.396429Z",
     "iopub.status.idle": "2020-09-26T15:46:16.430167Z",
     "shell.execute_reply": "2020-09-26T15:46:16.431084Z"
    },
    "papermill": {
     "duration": 1.099398,
     "end_time": "2020-09-26T15:46:16.431354",
     "exception": false,
     "start_time": "2020-09-26T15:46:15.331956",
     "status": "completed"
    },
    "tags": []
   },
   "source": [
    "f,axes = plt.subplots(1, 2,figsize=(15,5))\n",
    "sns.boxplot(x=df['waterfront'],y=df['price'], ax=axes[0])\n",
    "sns.boxplot(x=df['view'],y=df['price'], ax=axes[1])\n",
    "sns.despine(left=True, bottom=True)\n",
    "axes[0].set(xlabel='Waterfront', ylabel='Price', title='Waterfront vs Price Box Plot')\n",
    "axes[1].set(xlabel='View', ylabel='Price', title='View vs Price Box Plot')\n",
    "\n",
    "f,axe = plt.subplots(1, 1,figsize=(15,5))\n",
    "sns.boxplot(x=df['grade'],y=df['price'], ax=axe)\n",
    "sns.despine(left=True, bottom=True)\n",
    "axe.set(xlabel='Grade', ylabel='Price', title='Grade vs Price Box Plot')\n",
    "plt.show()\n"
   ],
   "outputs": [],
   "execution_count": null
  },
  {
   "cell_type": "markdown",
   "metadata": {
    "papermill": {
     "duration": 0.054078,
     "end_time": "2020-09-26T15:46:16.550048",
     "exception": false,
     "start_time": "2020-09-26T15:46:16.495970",
     "status": "completed"
    },
    "tags": []
   },
   "source": [
    "<a id=\"ch4\"></a>\n",
    "## Работа с данными признаков\n",
    "<hr/>\n",
    "\n",
    "### Коррекция путём исключения признаков\n",
    "Исключая признаки, мы работаем с меньшим объёмом данных. Это ускоряет работу нашей тетради и упрощает анализ. Исходя из наших предположений и решений, мы хотим исключить признаки Id, zipcode и Date."
   ]
  },
  {
   "cell_type": "code",
   "metadata": {
    "execution": {
     "iopub.execute_input": "2020-09-26T15:46:16.672987Z",
     "iopub.status.busy": "2020-09-26T15:46:16.672224Z",
     "iopub.status.idle": "2020-09-26T15:46:16.676173Z",
     "shell.execute_reply": "2020-09-26T15:46:16.675416Z"
    },
    "papermill": {
     "duration": 0.071671,
     "end_time": "2020-09-26T15:46:16.676312",
     "exception": false,
     "start_time": "2020-09-26T15:46:16.604641",
     "status": "completed"
    },
    "tags": []
   },
   "source": [
    "df = df.drop('id', axis=1)\n",
    "df = df.drop('zipcode',axis=1)"
   ],
   "outputs": [],
   "execution_count": null
  },
  {
   "cell_type": "markdown",
   "metadata": {
    "papermill": {
     "duration": 0.054425,
     "end_time": "2020-09-26T15:46:16.786323",
     "exception": false,
     "start_time": "2020-09-26T15:46:16.731898",
     "status": "completed"
    },
    "tags": []
   },
   "source": [
    "<a id=\"ch5\"></a>\n",
    "## Инженерия признаков\n",
    "<hr/>\n",
    "\n",
    "Мы хотим преобразовать признак даты, создав столбцы для года и месяца. Признак даты представлен в виде строки. С помощью `pd.to_datetime` мы можем преобразовать аргумент в формат datetime."
   ]
  },
  {
   "cell_type": "code",
   "metadata": {
    "execution": {
     "iopub.execute_input": "2020-09-26T15:46:16.906746Z",
     "iopub.status.busy": "2020-09-26T15:46:16.905943Z",
     "iopub.status.idle": "2020-09-26T15:46:17.213834Z",
     "shell.execute_reply": "2020-09-26T15:46:17.214662Z"
    },
    "papermill": {
     "duration": 0.373965,
     "end_time": "2020-09-26T15:46:17.214902",
     "exception": false,
     "start_time": "2020-09-26T15:46:16.840937",
     "status": "completed"
    },
    "tags": []
   },
   "source": [
    "# Приводим все значения к строковому типу (если это еще не сделано)\n",
    "df['date'] = df['date'].astype(str)\n",
    "\n",
    "# Заменяем 'T' на пробел, чтобы правильно обработать дату и время\n",
    "df['date'] = df['date'].str.replace('T', ' ')\n",
    "\n",
    "# Преобразуем строку в формат datetime\n",
    "df['date'] = pd.to_datetime(df['date'], format='%Y%m%d', errors='coerce')\n",
    "\n",
    "# Извлекаем месяц и год\n",
    "df['month'] = df['date'].apply(lambda date: date.month if pd.notnull(date) else None)\n",
    "df['year'] = df['date'].apply(lambda date: date.year if pd.notnull(date) else None)\n",
    "\n",
    "df = df.drop('date', axis=1)\n",
    "\n",
    "# Проверка новых столбцов\n",
    "print(df.columns.values)\n"
   ],
   "outputs": [],
   "execution_count": null
  },
  {
   "cell_type": "markdown",
   "metadata": {
    "papermill": {
     "duration": 0.054302,
     "end_time": "2020-09-26T15:46:17.324594",
     "exception": false,
     "start_time": "2020-09-26T15:46:17.270292",
     "status": "completed"
    },
    "tags": []
   },
   "source": [
    "### Тенденции цен на дома\n",
    "* Смотрев на боковые диаграммы, мы замечаем, что разница между 2014 и 2015 годами незначительная.\n",
    "* Количество проданных домов по месяцам, как правило, остается примерно одинаковым каждый месяц.\n",
    "* Линейный график показывает, что около апреля происходит увеличение цен на дома."
   ]
  },
  {
   "cell_type": "code",
   "metadata": {
    "_kg_hide-input": true,
    "execution": {
     "iopub.execute_input": "2020-09-26T15:46:17.454777Z",
     "iopub.status.busy": "2020-09-26T15:46:17.449576Z",
     "iopub.status.idle": "2020-09-26T15:46:18.372847Z",
     "shell.execute_reply": "2020-09-26T15:46:18.372080Z"
    },
    "papermill": {
     "duration": 0.992618,
     "end_time": "2020-09-26T15:46:18.372978",
     "exception": false,
     "start_time": "2020-09-26T15:46:17.380360",
     "status": "completed"
    },
    "tags": []
   },
   "source": [
    "f, axes = plt.subplots(1, 2,figsize=(15,5))\n",
    "\n",
    "sns.boxplot(x='year',y='price',data=df, ax=axes[0])\n",
    "sns.boxplot(x='month',y='price',data=df, ax=axes[1])\n",
    "sns.despine(left=True, bottom=True)\n",
    "axes[0].set(xlabel='Year', ylabel='Price', title='Price by Year Box Plot')\n",
    "axes[1].set(xlabel='Month', ylabel='Price', title='Price by Month Box Plot')\n",
    "\n",
    "f, axe = plt.subplots(1, 1,figsize=(15,5))\n",
    "df.groupby('month').mean()['price'].plot()\n",
    "sns.despine(left=True, bottom=True)\n",
    "axe.set(xlabel='Month', ylabel='Price', title='Price Trends')\n",
    "plt.show()\n"
   ],
   "outputs": [],
   "execution_count": null
  },
  {
   "cell_type": "markdown",
   "metadata": {
    "papermill": {
     "duration": 0.058269,
     "end_time": "2020-09-26T15:46:18.489899",
     "exception": false,
     "start_time": "2020-09-26T15:46:18.431630",
     "status": "completed"
    },
    "tags": []
   },
   "source": [
    "<a id=\"ch6\"></a>\n",
    "## Масштабирование и разделение на обучающую и тестовую выборки\n",
    "<hr/>\n",
    "Теперь мы готовы обучить модель и предсказать необходимое решение. Существует более 60 алгоритмов предсказательного моделирования на выбор. Мы должны понять тип проблемы и требования к решению, чтобы сузить выбор до нескольких моделей, которые мы можем оценить. Наша проблема представляет собой регрессионную задачу с минимизацией среднеквадратичной ошибки. Мы также выполняем категорию машинного обучения, называемую контролируемым обучением, так как мы обучаем нашу модель на основе данного набора данных."
   ]
  },
  {
   "cell_type": "code",
   "metadata": {
    "execution": {
     "iopub.execute_input": "2020-09-26T15:46:18.618678Z",
     "iopub.status.busy": "2020-09-26T15:46:18.616942Z",
     "iopub.status.idle": "2020-09-26T15:46:18.631598Z",
     "shell.execute_reply": "2020-09-26T15:46:18.630914Z"
    },
    "papermill": {
     "duration": 0.083475,
     "end_time": "2020-09-26T15:46:18.631751",
     "exception": false,
     "start_time": "2020-09-26T15:46:18.548276",
     "status": "completed"
    },
    "tags": []
   },
   "source": [
    "# Признаки\n",
    "X = df.drop('price', axis=1)\n",
    "\n",
    "# Метка\n",
    "y = df['price']\n",
    "\n",
    "# Разделение на обучающую и тестовую выборки\n",
    "X_train, X_test, y_train, y_test = train_test_split(X, y, test_size=0.3, random_state=101)\n"
   ],
   "outputs": [],
   "execution_count": null
  },
  {
   "cell_type": "code",
   "metadata": {
    "execution": {
     "iopub.execute_input": "2020-09-26T15:46:18.759062Z",
     "iopub.status.busy": "2020-09-26T15:46:18.758125Z",
     "iopub.status.idle": "2020-09-26T15:46:18.763742Z",
     "shell.execute_reply": "2020-09-26T15:46:18.762367Z"
    },
    "papermill": {
     "duration": 0.072357,
     "end_time": "2020-09-26T15:46:18.763924",
     "exception": false,
     "start_time": "2020-09-26T15:46:18.691567",
     "status": "completed"
    },
    "tags": []
   },
   "source": [
    "print(X_train.shape)\n",
    "print(X_test.shape)\n",
    "print(y_train.shape)\n",
    "print(y_test.shape)"
   ],
   "outputs": [],
   "execution_count": null
  },
  {
   "cell_type": "markdown",
   "metadata": {
    "papermill": {
     "duration": 0.058762,
     "end_time": "2020-09-26T15:46:18.882952",
     "exception": false,
     "start_time": "2020-09-26T15:46:18.824190",
     "status": "completed"
    },
    "tags": []
   },
   "source": [
    "### Нормализация / Масштабирование данных\n",
    "Мы масштабируем данные признаков. Чтобы предотвратить утечку данных из тестового набора, мы подгоняем наш скейлер только к обучающему набору."
   ]
  },
  {
   "cell_type": "code",
   "metadata": {
    "execution": {
     "iopub.execute_input": "2020-09-26T15:46:19.012723Z",
     "iopub.status.busy": "2020-09-26T15:46:19.011877Z",
     "iopub.status.idle": "2020-09-26T15:46:19.028263Z",
     "shell.execute_reply": "2020-09-26T15:46:19.027482Z"
    },
    "papermill": {
     "duration": 0.085378,
     "end_time": "2020-09-26T15:46:19.028411",
     "exception": false,
     "start_time": "2020-09-26T15:46:18.943033",
     "status": "completed"
    },
    "tags": []
   },
   "source": [
    "scaler = MinMaxScaler()\n",
    "\n",
    "# Подгонка и преобразование\n",
    "X_train = scaler.fit_transform(X_train)\n",
    "X_test = scaler.transform(X_test)\n",
    "\n",
    "# Все данные были масштабированы в диапазоне от 0 до 1\n",
    "print('MAX: ', X_train.max())\n",
    "print('MIN: ', X_train.min())\n"
   ],
   "outputs": [],
   "execution_count": null
  },
  {
   "cell_type": "markdown",
   "metadata": {
    "papermill": {
     "duration": 0.060899,
     "end_time": "2020-09-26T15:46:19.151058",
     "exception": false,
     "start_time": "2020-09-26T15:46:19.090159",
     "status": "completed"
    },
    "tags": []
   },
   "source": [
    "<a id=\"ch7\"></a>\n",
    "## Создание модели\n",
    "***\n",
    "Мы оцениваем количество нейронов (единиц) на основе наших признаков. Например: X_train.shape (15117, 19). Оптимизатор спрашивает, как вы хотите выполнить этот градиентный спуск. В данном случае мы используем оптимизатор Adam и функцию потерь среднеквадратичной ошибки."
   ]
  },
  {
   "cell_type": "code",
   "metadata": {
    "execution": {
     "iopub.execute_input": "2020-09-26T15:46:19.280480Z",
     "iopub.status.busy": "2020-09-26T15:46:19.279678Z",
     "iopub.status.idle": "2020-09-26T15:46:19.378555Z",
     "shell.execute_reply": "2020-09-26T15:46:19.377896Z"
    },
    "papermill": {
     "duration": 0.167402,
     "end_time": "2020-09-26T15:46:19.378716",
     "exception": false,
     "start_time": "2020-09-26T15:46:19.211314",
     "status": "completed"
    },
    "tags": []
   },
   "source": [
    "model = Sequential()\n",
    "\n",
    "# Входной слой\n",
    "model.add(Dense(19, activation='relu'))\n",
    "\n",
    "# Скрытые слои\n",
    "model.add(Dense(19, activation='relu'))\n",
    "model.add(Dense(19, activation='relu'))\n",
    "model.add(Dense(19, activation='relu'))\n",
    "\n",
    "# Выходной слой\n",
    "model.add(Dense(1))\n",
    "\n",
    "model.compile(optimizer='adam', loss='mse')\n"
   ],
   "outputs": [],
   "execution_count": null
  },
  {
   "cell_type": "markdown",
   "metadata": {
    "papermill": {
     "duration": 0.063308,
     "end_time": "2020-09-26T15:46:19.503812",
     "exception": false,
     "start_time": "2020-09-26T15:46:19.440504",
     "status": "completed"
    },
    "tags": []
   },
   "source": [
    "<a id=\"ch8\"></a>\n",
    "## Обучение модели\n",
    "***\n",
    "Теперь, когда модель готова, мы можем подогнать модель под данные.\n",
    "\n",
    "Поскольку набор данных большой, мы будем использовать параметр `batch_size`. Обычно используют размеры пакетов, равные степени двойки (32, 64, 128, 256...). В данном случае мы используем 128. Чем меньше размер пакета, тем больше времени потребуется для обучения."
   ]
  },
  {
   "cell_type": "code",
   "metadata": {
    "_kg_hide-output": true,
    "collapsed": true,
    "execution": {
     "iopub.execute_input": "2020-09-26T15:46:19.633582Z",
     "iopub.status.busy": "2020-09-26T15:46:19.632752Z",
     "iopub.status.idle": "2020-09-26T15:47:57.756785Z",
     "shell.execute_reply": "2020-09-26T15:47:57.756088Z"
    },
    "papermill": {
     "duration": 98.191956,
     "end_time": "2020-09-26T15:47:57.756930",
     "exception": false,
     "start_time": "2020-09-26T15:46:19.564974",
     "status": "completed"
    },
    "tags": []
   },
   "source": [
    "model.fit(x=X_train,y=y_train.values,\n",
    "          validation_data=(X_test,y_test.values),\n",
    "          batch_size=128,epochs=400)"
   ],
   "outputs": [],
   "execution_count": null
  },
  {
   "cell_type": "markdown",
   "metadata": {
    "papermill": {
     "duration": 0.959092,
     "end_time": "2020-09-26T15:47:59.609883",
     "exception": false,
     "start_time": "2020-09-26T15:47:58.650791",
     "status": "completed"
    },
    "tags": []
   },
   "source": [
    "### Потери при обучении по эпохам\n",
    "* Этот график показывает потери при обучении по эпохам.\n",
    "* Этот график помогает нам определить, есть ли переобучение в модели. В данном случае переобучения нет, поскольку обе линии снижаются одновременно."
   ]
  },
  {
   "cell_type": "code",
   "metadata": {
    "_kg_hide-input": true,
    "execution": {
     "iopub.execute_input": "2020-09-26T15:48:01.400698Z",
     "iopub.status.busy": "2020-09-26T15:48:01.386281Z",
     "iopub.status.idle": "2020-09-26T15:48:02.145496Z",
     "shell.execute_reply": "2020-09-26T15:48:02.144709Z"
    },
    "papermill": {
     "duration": 1.650316,
     "end_time": "2020-09-26T15:48:02.145638",
     "exception": false,
     "start_time": "2020-09-26T15:48:00.495322",
     "status": "completed"
    },
    "tags": []
   },
   "source": [
    "losses = pd.DataFrame(model.history.history)\n",
    "\n",
    "plt.figure(figsize=(15,5))\n",
    "sns.lineplot(data=losses,lw=3)\n",
    "plt.xlabel('Epochs')\n",
    "plt.ylabel('')\n",
    "plt.title('Training Loss per Epoch')\n",
    "sns.despine()\n",
    "plt.show()"
   ],
   "outputs": [],
   "execution_count": null
  },
  {
   "cell_type": "markdown",
   "metadata": {
    "papermill": {
     "duration": 0.875192,
     "end_time": "2020-09-26T15:48:03.900159",
     "exception": false,
     "start_time": "2020-09-26T15:48:03.024967",
     "status": "completed"
    },
    "tags": []
   },
   "source": [
    "<a id=\"ch9\"></a>\n",
    "## Оценка на тестовых данных\n",
    "---\n",
    "### Метрики оценки регрессии\n",
    "\n",
    "**Средняя абсолютная ошибка** (MAE) — это среднее абсолютное значение ошибок:\n",
    "\n",
    "$$\\frac{1}{n}\\sum_{i=1}^{n}|y_i-\\hat{y}_i|$$\n",
    "\n",
    "**Средняя квадратичная ошибка** (MSE) — это среднее значение квадратов ошибок:\n",
    "\n",
    "$$\\frac{1}{n}\\sum_{i=1}^{n}(y_i-\\hat{y}_i)^2$$\n",
    "\n",
    "**Корень средней квадратичной ошибки** (RMSE) — это квадратный корень из среднего значения квадратов ошибок:\n",
    "\n",
    "$$\\sqrt{\\frac{1}{n}\\sum_{i=1}^{n}(y_i-\\hat{y}_i)^2}$$\n",
    "\n",
    "Сравнение этих метрик:\n",
    "\n",
    "- **MAE** проще всего понять, так как это средняя ошибка.\n",
    "- **MSE** более популярна, чем MAE, потому что MSE \"наказывает\" большие ошибки, что обычно полезно в реальном мире.\n",
    "- **RMSE** еще более популярна, чем MSE, потому что RMSE интерпретируется в единицах \"y\"."
   ]
  },
  {
   "cell_type": "markdown",
   "metadata": {
    "papermill": {
     "duration": 0.876505,
     "end_time": "2020-09-26T15:48:05.648831",
     "exception": false,
     "start_time": "2020-09-26T15:48:04.772326",
     "status": "completed"
    },
    "tags": []
   },
   "source": [
    "### Прогнозирование на совершенно новых данных\n",
    "В этой части мы предоставляем модели тестовый набор, чтобы получить список прогнозов. Затем мы сравниваем правильные значения со списком прогнозов. Мы используем различные метрики для сравнения прогнозов; в данном случае мы используем MAE, MSE, RMSE и коэффициент регрессионной дисперсии.\n",
    "\n",
    "Давайте начнем с анализа MAE, которая составляет \\$103,500. Это означает, что наша модель в среднем ошибается примерно на \\$100,000.\n",
    "\n",
    "***Является ли этот MAE хорошим или плохим?***\n",
    "\n",
    "Для этого мы должны учитывать наш исходный набор данных и посмотреть, какие значения у нас есть. Например, среднее значение составляет 540,000, следовательно, MAE составляет около 19% от средней цены. Это не особенно хороший результат.\n",
    "\n",
    "Чтобы лучше понять эту ошибку, мы можем использовать коэффициент регрессионной дисперсии, где наилучший возможный результат равен 1.0, а более низкие значения считаются худшими. Это показывает, насколько хорошо ваша модель объясняет дисперсию. В нашем случае у нас 0.80, что является нормальным результатом."
   ]
  },
  {
   "cell_type": "code",
   "metadata": {
    "_kg_hide-input": true,
    "execution": {
     "iopub.execute_input": "2020-09-26T15:48:07.448783Z",
     "iopub.status.busy": "2020-09-26T15:48:07.447970Z",
     "iopub.status.idle": "2020-09-26T15:48:07.730282Z",
     "shell.execute_reply": "2020-09-26T15:48:07.731217Z"
    },
    "papermill": {
     "duration": 1.194529,
     "end_time": "2020-09-26T15:48:07.731468",
     "exception": false,
     "start_time": "2020-09-26T15:48:06.536939",
     "status": "completed"
    },
    "tags": []
   },
   "source": [
    "# Прогнозы на тестовом наборе\n",
    "predictions = model.predict(X_test)\n",
    "\n",
    "print('MAE: ', mean_absolute_error(y_test, predictions))\n",
    "print('MSE: ', mean_squared_error(y_test, predictions))\n",
    "print('RMSE: ', np.sqrt(mean_squared_error(y_test, predictions)))\n",
    "print('Variance Regression Score: ',explained_variance_score(y_test,predictions))\n",
    "\n",
    "print('\\n\\nDescriptive Statistics:\\n',df['price'].describe())\n"
   ],
   "outputs": [],
   "execution_count": null
  },
  {
   "cell_type": "markdown",
   "metadata": {
    "papermill": {
     "duration": 0.874332,
     "end_time": "2020-09-26T15:48:09.480851",
     "exception": false,
     "start_time": "2020-09-26T15:48:08.606519",
     "status": "completed"
    },
    "tags": []
   },
   "source": [
    "### Прогнозы модели против идеального соответствия\n",
    "* Мы можем сравнить прогнозы модели с идеальным соответствием, чтобы увидеть, насколько точно модель работает.\n",
    "* Красная линия представляет идеальное предсказание.\n",
    "* Мы страдаем из-за выбросов, которые представляют собой дорогие дома. Наша модель не очень хорошо предсказывает цены на люксовые дома.\n",
    "* С другой стороны, наша модель хорошо предсказывает цену домов в диапазоне от \\$0 до \\$2 миллионов. Здесь явно хорошее соответствие.\n",
    "* Возможно, имеет смысл переобучить нашу модель только на домах с ценой ниже \\$3 миллионов."
   ]
  },
  {
   "cell_type": "code",
   "metadata": {
    "_kg_hide-input": true,
    "execution": {
     "iopub.execute_input": "2020-09-26T15:48:11.255772Z",
     "iopub.status.busy": "2020-09-26T15:48:11.243407Z",
     "iopub.status.idle": "2020-09-26T15:48:12.018331Z",
     "shell.execute_reply": "2020-09-26T15:48:12.017553Z"
    },
    "papermill": {
     "duration": 1.661068,
     "end_time": "2020-09-26T15:48:12.018485",
     "exception": false,
     "start_time": "2020-09-26T15:48:10.357417",
     "status": "completed"
    },
    "tags": []
   },
   "source": [
    "import seaborn as sns\n",
    "import matplotlib.pyplot as plt\n",
    "\n",
    "f, axes = plt.subplots(1, 2, figsize=(15, 5))\n",
    "\n",
    "# Прогнозы нашей модели\n",
    "plt.scatter(y_test, predictions)\n",
    "\n",
    "# Идеальные прогнозы\n",
    "plt.plot(y_test, y_test, 'r')\n",
    "\n",
    "# Вычисляем ошибки\n",
    "errors = y_test.values.reshape(-1, 1) - predictions\n",
    "\n",
    "# Используем histplot вместо distplot\n",
    "sns.histplot(errors, ax=axes[0], kde=True)  # 'kde=True' добавит линию оценки плотности\n",
    "\n",
    "sns.despine(left=True, bottom=True)\n",
    "axes[0].set(xlabel='Error', ylabel='', title='Error Histogram')\n",
    "axes[1].set(xlabel='Test True Y', ylabel='Model Predictions', title='Model Predictions vs Perfect Fit')\n",
    "\n",
    "plt.show()\n"
   ],
   "outputs": [],
   "execution_count": null
  },
  {
   "metadata": {},
   "cell_type": "markdown",
   "source": [
    "<a id=\"ch10\"></a>\n",
    "## Прогнозирование цены нового дома\n",
    "\n",
    "Мы собираемся использовать модель для прогнозирования цены нового дома. Мы выберем первый дом из набора данных и уберем цену. `single_house` будет содержать все необходимые нам характеристики для предсказания цены. После этого нам нужно изменить форму переменной и нормализовать характеристики.\n",
    "\n",
    "Исходная цена составляет 221,900 тысячу долларов, а прогноз модели составляет 280,000 тысяч долларов."
   ]
  },
  {
   "metadata": {},
   "cell_type": "markdown",
   "source": ""
  },
  {
   "cell_type": "code",
   "metadata": {
    "_kg_hide-input": true,
    "execution": {
     "iopub.execute_input": "2020-09-26T15:48:15.543935Z",
     "iopub.status.busy": "2020-09-26T15:48:15.542959Z",
     "iopub.status.idle": "2020-09-26T15:48:15.587566Z",
     "shell.execute_reply": "2020-09-26T15:48:15.586883Z"
    },
    "papermill": {
     "duration": 0.936181,
     "end_time": "2020-09-26T15:48:15.587715",
     "exception": false,
     "start_time": "2020-09-26T15:48:14.651534",
     "status": "completed"
    },
    "tags": []
   },
   "source": [
    "# Характеристики нового дома\n",
    "single_house = df.loc[0].drop('price')  # Извлекаем первую строку без цены, сохраняя имена признаков\n",
    "print(f'Features of new house:\\n{single_house}')\n",
    "\n",
    "# Изменяем форму массива numpy и нормализуем характеристики\n",
    "single_house = scaler.transform(single_house.values.reshape(1, -1))  # Изменяем форму на (1, n_features)\n",
    "\n",
    "# Запускаем модель и получаем прогноз цены\n",
    "predicted_price = model.predict(single_house)[0, 0]\n",
    "print('\\nPrediction Price: ${:,.2f}'.format(predicted_price))\n",
    "\n",
    "# Исходная цена\n",
    "original_price = df.iloc[0]['price']\n",
    "print('\\nOriginal Price: ${:,.2f}'.format(original_price))\n"
   ],
   "outputs": [],
   "execution_count": null
  }
 ],
 "metadata": {
  "kernelspec": {
   "display_name": "Python 3",
   "language": "python",
   "name": "python3"
  },
  "language_info": {
   "codemirror_mode": {
    "name": "ipython",
    "version": 3
   },
   "file_extension": ".py",
   "mimetype": "text/x-python",
   "name": "python",
   "nbconvert_exporter": "python",
   "pygments_lexer": "ipython3",
   "version": "3.7.6"
  },
  "papermill": {
   "duration": 143.392354,
   "end_time": "2020-09-26T15:48:20.132860",
   "environment_variables": {},
   "exception": null,
   "input_path": "__notebook__.ipynb",
   "output_path": "__notebook__.ipynb",
   "parameters": {},
   "start_time": "2020-09-26T15:45:56.740506",
   "version": "2.1.0"
  }
 },
 "nbformat": 4,
 "nbformat_minor": 4
}
