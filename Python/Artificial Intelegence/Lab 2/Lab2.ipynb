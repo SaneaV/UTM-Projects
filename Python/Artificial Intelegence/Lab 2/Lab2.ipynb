{
 "cells": [
  {
   "cell_type": "markdown",
   "metadata": {},
   "source": [
    "Студент: Вичев Александр\n",
    "\n",
    "Для выполнения задачи с использованием различных методов классификации, я приведу инструкции по каждому из пяти упомянутых подходов, а также пример кода на Python с использованием библиотеки scikit-learn. В конце будут приведены примеры оценки точности модели с использованием метрик, таких как precision, recall, f1-score и confusion matrix.\n",
    "\n",
    "1. Классификатор на основе критерия Байеса — Наивный Байес\n",
    "\n",
    "Основная идея:\n",
    "Модель строится на основе теоремы Байеса: P(C∣X)=P(X)P(X∣C)⋅P(C).\n",
    "\n",
    "Она выбирает класс C, который имеет максимальную вероятность при условии наблюдаемых данных X.\n",
    "Пример кода:"
   ]
  },
  {
   "cell_type": "code",
   "execution_count": 1,
   "metadata": {
    "ExecuteTime": {
     "end_time": "2024-09-25T08:41:12.654579Z",
     "start_time": "2024-09-25T08:41:11.021484Z"
    }
   },
   "outputs": [
    {
     "name": "stdout",
     "output_type": "stream",
     "text": [
      "Отчет Наивного Байеса:\n",
      "               precision    recall  f1-score   support\n",
      "\n",
      "           0       1.00      1.00      1.00        19\n",
      "           1       1.00      0.92      0.96        13\n",
      "           2       0.93      1.00      0.96        13\n",
      "\n",
      "    accuracy                           0.98        45\n",
      "   macro avg       0.98      0.97      0.97        45\n",
      "weighted avg       0.98      0.98      0.98        45\n",
      "\n",
      "Матрица неточностей:\n",
      " [[19  0  0]\n",
      " [ 0 12  1]\n",
      " [ 0  0 13]]\n"
     ]
    }
   ],
   "source": [
    "from sklearn.datasets import load_iris\n",
    "from sklearn.model_selection import train_test_split\n",
    "from sklearn.naive_bayes import GaussianNB\n",
    "from sklearn.metrics import classification_report, confusion_matrix\n",
    "\n",
    "# Загрузка данных\n",
    "iris = load_iris()\n",
    "X_train, X_test, y_train, y_test = train_test_split(iris.data, iris.target, test_size=0.3, random_state=42)\n",
    "\n",
    "# Обучение модели Наивного Байеса\n",
    "nb = GaussianNB()\n",
    "nb.fit(X_train, y_train)\n",
    "\n",
    "# Предсказания\n",
    "y_pred = nb.predict(X_test)\n",
    "\n",
    "# Оценка производительности\n",
    "print(\"Отчет Наивного Байеса:\\n\", classification_report(y_test, y_pred))\n",
    "print(\"Матрица неточностей:\\n\", confusion_matrix(y_test, y_pred))\n"
   ]
  },
  {
   "cell_type": "markdown",
   "metadata": {},
   "source": [
    "2. Классификатор на основе функций — Метод опорных векторов (SVM)\n",
    "\n",
    "SVM (Support Vector Machine) — это метод классификации, который находит гиперплоскость, разделяющую классы данных, с максимальным отступом между точками.\n",
    "\n",
    "Основная идея:\n",
    "Модель оптимизирует гиперплоскость, которая максимально разделяет классы данных.\n",
    "Для нелинейных данных могут использоваться ядра, такие как полиномиальные или радиальные базисные функции (RBF).\n",
    "Пример кода:"
   ]
  },
  {
   "cell_type": "code",
   "execution_count": 2,
   "metadata": {
    "ExecuteTime": {
     "end_time": "2024-09-25T08:41:12.877450Z",
     "start_time": "2024-09-25T08:41:12.735614Z"
    }
   },
   "outputs": [
    {
     "name": "stdout",
     "output_type": "stream",
     "text": [
      "Отчет SVM:\n",
      "               precision    recall  f1-score   support\n",
      "\n",
      "           0       1.00      1.00      1.00        19\n",
      "           1       1.00      1.00      1.00        13\n",
      "           2       1.00      1.00      1.00        13\n",
      "\n",
      "    accuracy                           1.00        45\n",
      "   macro avg       1.00      1.00      1.00        45\n",
      "weighted avg       1.00      1.00      1.00        45\n",
      "\n",
      "Матрица неточностей:\n",
      " [[19  0  0]\n",
      " [ 0 13  0]\n",
      " [ 0  0 13]]\n"
     ]
    }
   ],
   "source": [
    "from sklearn.svm import SVC\n",
    "\n",
    "# Обучение модели SVM\n",
    "svm = SVC(kernel='linear')\n",
    "svm.fit(X_train, y_train)\n",
    "\n",
    "# Предсказания\n",
    "y_pred = svm.predict(X_test)\n",
    "\n",
    "# Оценка производительности\n",
    "print(\"Отчет SVM:\\n\", classification_report(y_test, y_pred))\n",
    "print(\"Матрица неточностей:\\n\", confusion_matrix(y_test, y_pred))\n"
   ]
  },
  {
   "cell_type": "markdown",
   "metadata": {},
   "source": [
    "3. Классификатор на основе правил — Решающее дерево\n",
    "\n",
    "Решающее дерево использует набор правил «если-то», которые позволяют делить пространство признаков на подмножества, относящиеся к определенным классам.\n",
    "\n",
    "Основная идея:\n",
    "Дерево решений строится путем рекурсивного разбиения данных по признакам.\n",
    "Каждый узел представляет признак, ветви — возможные значения признака, а листья — классы.\n",
    "Пример кода:"
   ]
  },
  {
   "cell_type": "code",
   "execution_count": 3,
   "metadata": {
    "ExecuteTime": {
     "end_time": "2024-09-25T08:41:13.075020Z",
     "start_time": "2024-09-25T08:41:12.977817Z"
    }
   },
   "outputs": [
    {
     "name": "stdout",
     "output_type": "stream",
     "text": [
      "Отчет Дерева решений:\n",
      "               precision    recall  f1-score   support\n",
      "\n",
      "           0       1.00      1.00      1.00        19\n",
      "           1       1.00      1.00      1.00        13\n",
      "           2       1.00      1.00      1.00        13\n",
      "\n",
      "    accuracy                           1.00        45\n",
      "   macro avg       1.00      1.00      1.00        45\n",
      "weighted avg       1.00      1.00      1.00        45\n",
      "\n",
      "Матрица неточностей:\n",
      " [[19  0  0]\n",
      " [ 0 13  0]\n",
      " [ 0  0 13]]\n"
     ]
    }
   ],
   "source": [
    "from sklearn.tree import DecisionTreeClassifier\n",
    "\n",
    "# Обучение дерева решений\n",
    "tree = DecisionTreeClassifier()\n",
    "tree.fit(X_train, y_train)\n",
    "\n",
    "# Предсказания\n",
    "y_pred = tree.predict(X_test)\n",
    "\n",
    "# Оценка производительности\n",
    "print(\"Отчет Дерева решений:\\n\", classification_report(y_test, y_pred))\n",
    "print(\"Матрица неточностей:\\n\", confusion_matrix(y_test, y_pred))\n"
   ]
  },
  {
   "cell_type": "markdown",
   "metadata": {},
   "source": [
    "4. Классификатор на основе деревьев — Случайный лес\n",
    "\n",
    "Случайный лес — это ансамблевый метод, который использует множество деревьев решений. Он повышает точность, комбинируя предсказания отдельных деревьев.\n",
    "\n",
    "Основная идея:\n",
    "Генерируется множество деревьев решений, и итоговое предсказание делается на основе голосования этих деревьев.\n",
    "Каждое дерево обучается на случайной подвыборке признаков.\n",
    "Пример кода:"
   ]
  },
  {
   "cell_type": "code",
   "execution_count": 4,
   "metadata": {
    "ExecuteTime": {
     "end_time": "2024-09-25T08:41:13.306738Z",
     "start_time": "2024-09-25T08:41:13.093285Z"
    }
   },
   "outputs": [
    {
     "name": "stdout",
     "output_type": "stream",
     "text": [
      "Отчет Случайного леса:\n",
      "               precision    recall  f1-score   support\n",
      "\n",
      "           0       1.00      1.00      1.00        19\n",
      "           1       1.00      1.00      1.00        13\n",
      "           2       1.00      1.00      1.00        13\n",
      "\n",
      "    accuracy                           1.00        45\n",
      "   macro avg       1.00      1.00      1.00        45\n",
      "weighted avg       1.00      1.00      1.00        45\n",
      "\n",
      "Матрица неточностей:\n",
      " [[19  0  0]\n",
      " [ 0 13  0]\n",
      " [ 0  0 13]]\n"
     ]
    }
   ],
   "source": [
    "from sklearn.ensemble import RandomForestClassifier\n",
    "\n",
    "# Обучение модели случайного леса\n",
    "rf = RandomForestClassifier(n_estimators=100)\n",
    "rf.fit(X_train, y_train)\n",
    "\n",
    "# Предсказания\n",
    "y_pred = rf.predict(X_test)\n",
    "\n",
    "# Оценка производительности\n",
    "print(\"Отчет Случайного леса:\\n\", classification_report(y_test, y_pred))\n",
    "print(\"Матрица неточностей:\\n\", confusion_matrix(y_test, y_pred))\n"
   ]
  },
  {
   "cell_type": "markdown",
   "metadata": {},
   "source": [
    "5. Мета-методы — AdaBoost\n",
    "\n",
    "AdaBoost — это алгоритм, который объединяет множество «слабых» классификаторов для создания более точной модели. Каждый новый классификатор концентрируется на ошибках предыдущего.\n",
    "\n",
    "Основная идея:\n",
    "Алгоритм поочередно добавляет слабые классификаторы, которые обучаются на ошибках предыдущих.\n",
    "Финальное предсказание делается на основе взвешенного голосования.\n",
    "Пример кода:"
   ]
  },
  {
   "cell_type": "code",
   "execution_count": 5,
   "metadata": {
    "ExecuteTime": {
     "end_time": "2024-09-25T08:41:13.429452Z",
     "start_time": "2024-09-25T08:41:13.328821Z"
    }
   },
   "outputs": [
    {
     "name": "stdout",
     "output_type": "stream",
     "text": [
      "Отчет AdaBoost:\n",
      "               precision    recall  f1-score   support\n",
      "\n",
      "           0       1.00      1.00      1.00        19\n",
      "           1       1.00      1.00      1.00        13\n",
      "           2       1.00      1.00      1.00        13\n",
      "\n",
      "    accuracy                           1.00        45\n",
      "   macro avg       1.00      1.00      1.00        45\n",
      "weighted avg       1.00      1.00      1.00        45\n",
      "\n",
      "Матрица неточностей:\n",
      " [[19  0  0]\n",
      " [ 0 13  0]\n",
      " [ 0  0 13]]\n"
     ]
    },
    {
     "name": "stderr",
     "output_type": "stream",
     "text": [
      "C:\\Users\\Alexandr\\miniconda3\\Lib\\site-packages\\sklearn\\ensemble\\_weight_boosting.py:527: FutureWarning: The SAMME.R algorithm (the default) is deprecated and will be removed in 1.6. Use the SAMME algorithm to circumvent this warning.\n",
      "  warnings.warn(\n"
     ]
    }
   ],
   "source": [
    "from sklearn.ensemble import AdaBoostClassifier\n",
    "\n",
    "# Обучение модели AdaBoost\n",
    "adaboost = AdaBoostClassifier(n_estimators=50)\n",
    "adaboost.fit(X_train, y_train)\n",
    "\n",
    "# Предсказания\n",
    "y_pred = adaboost.predict(X_test)\n",
    "\n",
    "# Оценка производительности\n",
    "print(\"Отчет AdaBoost:\\n\", classification_report(y_test, y_pred))\n",
    "print(\"Матрица неточностей:\\n\", confusion_matrix(y_test, y_pred))\n"
   ]
  },
  {
   "cell_type": "markdown",
   "metadata": {},
   "source": [
    "<b>Оценка моделей:</b>\n",
    "\n",
    "\n",
    "После того как каждая модель обучена и сделаны предсказания, используем метрики для оценки качества:\n",
    "\n",
    "Precision — доля правильных положительных предсказаний среди всех предсказанных положительных.\n",
    "\n",
    "Recall — доля правильно предсказанных положительных среди всех истинных положительных.\n",
    "\n",
    "F1-score — гармоническое среднее между Precision и Recall.\n",
    "\n",
    "Confusion matrix — таблица, которая показывает истинные и предсказанные классы.\n",
    "\n",
    "\n",
    "<b>Заключение:</b>\n",
    "\n",
    "\n",
    "Каждая из этих моделей имеет свои плюсы и минусы, которые зависят от характера данных. Например:\n",
    "\n",
    "Наивный Байес работает лучше при условии независимости признаков.\n",
    "\n",
    "SVM хорош при разделении классов, особенно при сложных разделительных гиперплоскостях.\n",
    "\n",
    "Решающее дерево легко интерпретировать, но оно может переобучаться.\n",
    "\n",
    "Случайный лес более устойчив к переобучению.\n",
    "\n",
    "AdaBoost фокусируется на сложных для классификации точках данных, но может быть чувствителен к шуму в данных.\n",
    "\n",
    "\n",
    "Выбор модели должен основываться на характеристиках данных и требованиях к точности, скорости и интерпретируемости."
   ]
  }
 ],
 "metadata": {
  "colab": {
   "authorship_tag": "ABX9TyMARUU4AeVdXSZH1V+VybNB",
   "collapsed_sections": [],
   "machine_shape": "hm",
   "name": "kernel_svm.ipynb",
   "provenance": [],
   "toc_visible": true
  },
  "kernelspec": {
   "display_name": "Python 3 (ipykernel)",
   "language": "python",
   "name": "python3"
  },
  "language_info": {
   "codemirror_mode": {
    "name": "ipython",
    "version": 3
   },
   "file_extension": ".py",
   "mimetype": "text/x-python",
   "name": "python",
   "nbconvert_exporter": "python",
   "pygments_lexer": "ipython3",
   "version": "3.12.2"
  }
 },
 "nbformat": 4,
 "nbformat_minor": 4
}
