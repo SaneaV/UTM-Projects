{
 "cells": [
  {
   "cell_type": "code",
   "id": "initial_id",
   "metadata": {
    "collapsed": true
   },
   "source": [
    ""
   ],
   "outputs": [],
   "execution_count": null
  },
  {
   "metadata": {
    "jupyter": {
     "is_executing": true
    },
    "ExecuteTime": {
     "start_time": "2024-09-25T11:03:34.979571Z"
    }
   },
   "cell_type": "code",
   "source": [
    "# Установка необходимых библиотек\n",
    "!pip install scikit-learn\n",
    "!pip install fuzzy-c-means\n",
    "\n",
    "import numpy as np\n",
    "import pandas as pd\n",
    "import matplotlib.pyplot as plt\n",
    "from sklearn.cluster import KMeans, AgglomerativeClustering\n",
    "from sklearn.datasets import make_blobs\n",
    "from fcmeans import FCM\n",
    "from scipy.cluster.hierarchy import dendrogram, linkage\n",
    "\n",
    "# Генерация случайного датасета\n",
    "X, _ = make_blobs(n_samples=500, centers=4, cluster_std=1.0, random_state=42)\n",
    "\n",
    "# Функция для визуализации кластеров\n",
    "def plot_clusters(X, labels, title):\n",
    "    plt.scatter(X[:, 0], X[:, 1], c=labels, cmap='viridis')\n",
    "    plt.title(title)\n",
    "    plt.show()\n",
    "\n",
    "# 1. Crisp Clustering (жесткая кластеризация)\n",
    "kmeans = KMeans(n_clusters=4, random_state=42)\n",
    "kmeans_labels = kmeans.fit_predict(X)\n",
    "plot_clusters(X, kmeans_labels, \"Crisp (K-Means) Clustering\")\n",
    "\n",
    "# 2. Fuzzy Clustering (нечеткая кластеризация)\n",
    "fcm = FCM(n_clusters=4)\n",
    "fcm.fit(X)\n",
    "fuzzy_labels = fcm.predict(X)\n",
    "plot_clusters(X, fuzzy_labels, \"Fuzzy Clustering\")\n",
    "\n",
    "# 3. Flat (Partitional) Clustering (плоская кластеризация - KMeans как пример)\n",
    "# KMeans уже использовался для crisp, повторим его как пример плоской кластеризации\n",
    "plot_clusters(X, kmeans_labels, \"Flat (Partitional) Clustering (KMeans)\")\n",
    "\n",
    "# 4. Hierarchical Clustering (иерархическая кластеризация)\n",
    "hierarchical = AgglomerativeClustering(n_clusters=4)\n",
    "hierarchical_labels = hierarchical.fit_predict(X)\n",
    "plot_clusters(X, hierarchical_labels, \"Hierarchical Clustering\")\n",
    "\n",
    "# Построение дендрограммы для иерархической кластеризации\n",
    "linked = linkage(X, 'ward')\n",
    "plt.figure(figsize=(10, 7))\n",
    "dendrogram(linked)\n",
    "plt.title(\"Dendrogram for Hierarchical Clustering\")\n",
    "plt.show()\n"
   ],
   "id": "a69fc71e21d54fd2",
   "outputs": [
    {
     "name": "stdout",
     "output_type": "stream",
     "text": [
      "Requirement already satisfied: scikit-learn in c:\\users\\alexandr\\miniconda3\\lib\\site-packages (1.5.1)\n",
      "Requirement already satisfied: numpy>=1.19.5 in c:\\users\\alexandr\\miniconda3\\lib\\site-packages (from scikit-learn) (1.26.4)\n",
      "Requirement already satisfied: scipy>=1.6.0 in c:\\users\\alexandr\\miniconda3\\lib\\site-packages (from scikit-learn) (1.12.0)\n",
      "Requirement already satisfied: joblib>=1.2.0 in c:\\users\\alexandr\\miniconda3\\lib\\site-packages (from scikit-learn) (1.4.2)\n",
      "Requirement already satisfied: threadpoolctl>=3.1.0 in c:\\users\\alexandr\\miniconda3\\lib\\site-packages (from scikit-learn) (3.5.0)\n"
     ]
    }
   ],
   "execution_count": null
  }
 ],
 "metadata": {
  "kernelspec": {
   "display_name": "Python 3",
   "language": "python",
   "name": "python3"
  },
  "language_info": {
   "codemirror_mode": {
    "name": "ipython",
    "version": 2
   },
   "file_extension": ".py",
   "mimetype": "text/x-python",
   "name": "python",
   "nbconvert_exporter": "python",
   "pygments_lexer": "ipython2",
   "version": "2.7.6"
  }
 },
 "nbformat": 4,
 "nbformat_minor": 5
}
