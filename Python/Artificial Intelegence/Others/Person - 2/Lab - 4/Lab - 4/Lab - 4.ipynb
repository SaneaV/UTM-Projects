{
 "cells": [
  {
   "metadata": {},
   "cell_type": "markdown",
   "source": [
    "Для этой задачи я создам примерный проект на основе Keras, который будет включать:\n",
    "\n",
    "- Загрузку и подготовку данных.\n",
    "- Построение нейронной сети с использованием Keras API.\n",
    "- Компиляцию и обучение модели.\n",
    "- Оценку качества модели.\n",
    "\n",
    "В качестве примера возьмем датасет с рукописными цифрами MNIST. Модель будет решать задачу классификации изображений цифр.\n",
    "\n",
    "Подготовка окружения и импорт библиотек\n"
   ],
   "id": "935204de728807b"
  },
  {
   "cell_type": "code",
   "id": "initial_id",
   "metadata": {
    "collapsed": true
   },
   "source": [
    "# Импортируем необходимые библиотеки\n",
    "import numpy as np\n",
    "import matplotlib.pyplot as plt\n",
    "from tensorflow.keras.datasets import mnist\n",
    "from tensorflow.keras.models import Sequential\n",
    "from tensorflow.keras.layers import Dense, Flatten\n",
    "from tensorflow.keras.utils import to_categorical\n",
    "from tensorflow.keras.optimizers import Adam\n"
   ],
   "outputs": [],
   "execution_count": null
  },
  {
   "metadata": {},
   "cell_type": "markdown",
   "source": [
    "1. Загрузка и подготовка данных\n",
    "\n"
   ],
   "id": "af8b05bfd5e274f3"
  },
  {
   "metadata": {},
   "cell_type": "code",
   "source": [
    "# Загружаем данные MNIST\n",
    "(x_train, y_train), (x_test, y_test) = mnist.load_data()\n",
    "\n",
    "# Нормализуем данные, масштабируя пиксели в диапазоне от 0 до 1\n",
    "x_train = x_train / 255.0\n",
    "x_test = x_test / 255.0\n",
    "\n",
    "# Преобразуем метки в категориальные (One-Hot Encoding)\n",
    "y_train = to_categorical(y_train, 10)\n",
    "y_test = to_categorical(y_test, 10)\n",
    "\n",
    "# Отобразим несколько примеров данных\n",
    "plt.figure(figsize=(10, 5))\n",
    "for i in range(10):\n",
    "    plt.subplot(2, 5, i+1)\n",
    "    plt.imshow(x_train[i], cmap='gray')\n",
    "    plt.axis('off')\n",
    "plt.show()\n"
   ],
   "id": "58c9482b319681db",
   "outputs": [],
   "execution_count": null
  },
  {
   "metadata": {},
   "cell_type": "markdown",
   "source": [
    "2. Построение модели\n",
    "\n",
    "Мы создадим простую нейронную сеть с одним скрытым слоем."
   ],
   "id": "a92c93e7decd14b4"
  },
  {
   "metadata": {},
   "cell_type": "code",
   "source": [
    "# Создаем модель с использованием Keras Sequential API\n",
    "model = Sequential([\n",
    "    Flatten(input_shape=(28, 28)),  # Преобразуем 28x28 изображение в вектор\n",
    "    Dense(128, activation='relu'),  # Скрытый слой с 128 нейронами и ReLU активацией\n",
    "    Dense(10, activation='softmax') # Выходной слой для 10 классов с softmax активацией\n",
    "])\n",
    "\n",
    "# Просмотр архитектуры модели\n",
    "model.summary()\n"
   ],
   "id": "4b2e69e3ee64eeea",
   "outputs": [],
   "execution_count": null
  },
  {
   "metadata": {},
   "cell_type": "markdown",
   "source": [
    "3. Компиляция и обучение модели\n",
    "\n"
   ],
   "id": "1323c215f491b02e"
  },
  {
   "metadata": {},
   "cell_type": "code",
   "source": [
    "# Компилируем модель\n",
    "model.compile(optimizer=Adam(),  # Оптимизатор Adam\n",
    "              loss='categorical_crossentropy',  # Функция потерь для многоклассовой классификации\n",
    "              metrics=['accuracy'])  # Метрика точности\n",
    "\n",
    "# Обучаем модель\n",
    "history = model.fit(x_train, y_train, epochs=10, batch_size=32, validation_split=0.2)\n"
   ],
   "id": "2a73467bbfe07ced",
   "outputs": [],
   "execution_count": null
  },
  {
   "metadata": {},
   "cell_type": "markdown",
   "source": [
    "4. Оценка качества модели\n",
    "\n"
   ],
   "id": "14ad36ef7abc12e3"
  },
  {
   "metadata": {},
   "cell_type": "code",
   "source": [
    "# Оцениваем модель на тестовых данных\n",
    "test_loss, test_accuracy = model.evaluate(x_test, y_test)\n",
    "print(f\"Test Loss: {test_loss}\")\n",
    "print(f\"Test Accuracy: {test_accuracy}\")\n",
    "\n",
    "# Визуализация точности и функции потерь\n",
    "plt.figure(figsize=(12, 4))\n",
    "\n",
    "# График точности\n",
    "plt.subplot(1, 2, 1)\n",
    "plt.plot(history.history['accuracy'], label='Точность на обучающих данных')\n",
    "plt.plot(history.history['val_accuracy'], label='Точность на валидационных данных')\n",
    "plt.title('Точность модели')\n",
    "plt.xlabel('Эпоха')\n",
    "plt.ylabel('Точность')\n",
    "plt.legend()\n",
    "\n",
    "# График функции потерь\n",
    "plt.subplot(1, 2, 2)\n",
    "plt.plot(history.history['loss'], label='Потери на обучающих данных')\n",
    "plt.plot(history.history['val_loss'], label='Потери на валидационных данных')\n",
    "plt.title('Потери модели')\n",
    "plt.xlabel('Эпоха')\n",
    "plt.ylabel('Потери')\n",
    "plt.legend()\n",
    "\n",
    "plt.show()\n"
   ],
   "id": "dc47f860501082b3",
   "outputs": [],
   "execution_count": null
  },
  {
   "metadata": {},
   "cell_type": "markdown",
   "source": [
    "5. Предсказание и визуализация\n",
    "\n"
   ],
   "id": "de89f959be427bc5"
  },
  {
   "metadata": {},
   "cell_type": "code",
   "source": [
    "# Прогнозируем на тестовых данных\n",
    "predictions = model.predict(x_test)\n",
    "\n",
    "# Визуализация нескольких предсказаний\n",
    "plt.figure(figsize=(10, 5))\n",
    "for i in range(10):\n",
    "    plt.subplot(2, 5, i+1)\n",
    "    plt.imshow(x_test[i], cmap='gray')\n",
    "    plt.title(f\"Предсказание: {np.argmax(predictions[i])}\")\n",
    "    plt.axis('off')\n",
    "plt.show()\n"
   ],
   "id": "b670141f92efa75d",
   "outputs": [],
   "execution_count": null
  },
  {
   "metadata": {},
   "cell_type": "markdown",
   "source": [
    "Заключение\n",
    "\n",
    "Этот проект показывает, как можно использовать Keras API для построения, компиляции и оценки модели для классификации изображений."
   ],
   "id": "7bffc3c46a72ed44"
  }
 ],
 "metadata": {
  "kernelspec": {
   "display_name": "Python 3",
   "language": "python",
   "name": "python3"
  },
  "language_info": {
   "codemirror_mode": {
    "name": "ipython",
    "version": 2
   },
   "file_extension": ".py",
   "mimetype": "text/x-python",
   "name": "python",
   "nbconvert_exporter": "python",
   "pygments_lexer": "ipython2",
   "version": "2.7.6"
  }
 },
 "nbformat": 4,
 "nbformat_minor": 5
}
