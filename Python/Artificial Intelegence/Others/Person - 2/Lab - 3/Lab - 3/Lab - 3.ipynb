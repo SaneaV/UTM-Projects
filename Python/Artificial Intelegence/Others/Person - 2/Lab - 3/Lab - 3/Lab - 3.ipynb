{
 "cells": [
  {
   "metadata": {},
   "cell_type": "code",
   "source": [
    "# Импорт необходимых библиотек\n",
    "import numpy as np\n",
    "import pandas as pd\n",
    "import matplotlib.pyplot as plt\n",
    "import seaborn as sns\n",
    "from sklearn.datasets import load_iris\n",
    "from sklearn.cluster import KMeans, DBSCAN, AgglomerativeClustering\n",
    "from sklearn.metrics import silhouette_score\n",
    "from scipy.cluster.hierarchy import dendrogram, linkage\n",
    "from sklearn.mixture import GaussianMixture"
   ],
   "id": "a86078eb7304ee71",
   "outputs": [],
   "execution_count": null
  },
  {
   "metadata": {},
   "cell_type": "code",
   "source": [
    "# Настройка стилей для графиков\n",
    "sns.set(style=\"whitegrid\")"
   ],
   "id": "386922e8ed328776",
   "outputs": [],
   "execution_count": null
  },
  {
   "metadata": {},
   "cell_type": "code",
   "source": [
    "# Загрузка данных Iris (замените на свой датасет, если нужно)\n",
    "iris = load_iris()\n",
    "X = iris.data\n",
    "y = iris.target"
   ],
   "id": "74fecfbba5b205cb",
   "outputs": [],
   "execution_count": null
  },
  {
   "metadata": {},
   "cell_type": "code",
   "source": [
    "# Преобразование в DataFrame для удобства работы\n",
    "df = pd.DataFrame(X, columns=iris.feature_names)"
   ],
   "id": "dcc00276cf1fb514",
   "outputs": [],
   "execution_count": null
  },
  {
   "metadata": {},
   "cell_type": "code",
   "source": [
    "# Функция для визуализации кластеров\n",
    "def plot_clusters(X, y_pred, title, centroids=None):\n",
    "    plt.figure(figsize=(8, 6))\n",
    "    plt.scatter(X[:, 0], X[:, 1], c=y_pred, cmap='viridis', marker='o', edgecolor='k')\n",
    "    if centroids is not None:\n",
    "        plt.scatter(centroids[:, 0], centroids[:, 1], s=300, c='red', label='Centroids')\n",
    "    plt.title(title)\n",
    "    plt.xlabel('Feature 1: Sepal Length')\n",
    "    plt.ylabel('Feature 2: Sepal Width')\n",
    "    plt.legend()\n",
    "    plt.show()"
   ],
   "id": "9a494a4e635111cd",
   "outputs": [],
   "execution_count": null
  },
  {
   "metadata": {},
   "cell_type": "code",
   "source": [
    "# 1. Алгоритм K-Means (частичная кластеризация)\n",
    "print(\"1. K-Means Clustering\")\n",
    "kmeans = KMeans(n_clusters=3, random_state=42)\n",
    "y_kmeans = kmeans.fit_predict(X)"
   ],
   "id": "75f7a6222a45cd65",
   "outputs": [],
   "execution_count": null
  },
  {
   "metadata": {},
   "cell_type": "code",
   "source": [
    "# Визуализация кластеров\n",
    "plot_clusters(X, y_kmeans, 'K-Means Clustering (Iris Dataset)', kmeans.cluster_centers_)"
   ],
   "id": "9f03a87f850dc7c2",
   "outputs": [],
   "execution_count": null
  },
  {
   "metadata": {},
   "cell_type": "code",
   "source": [
    "# Оценка качества кластеризации с помощью силуэтного коэффициента\n",
    "print(f'Silhouette Score for K-Means: {silhouette_score(X, y_kmeans)}\\n')"
   ],
   "id": "7024ad72d1983d27",
   "outputs": [],
   "execution_count": null
  },
  {
   "metadata": {},
   "cell_type": "code",
   "source": [
    "# 2. DBSCAN (кластеризация, основанная на плотности)\n",
    "print(\"2. DBSCAN Clustering\")\n",
    "dbscan = DBSCAN(eps=0.5, min_samples=5)\n",
    "y_dbscan = dbscan.fit_predict(X)"
   ],
   "id": "53063f68e0c57264",
   "outputs": [],
   "execution_count": null
  },
  {
   "metadata": {},
   "cell_type": "code",
   "source": [
    "# Визуализация кластеров\n",
    "plt.figure(figsize=(8, 6))\n",
    "plt.scatter(X[:, 0], X[:, 1], c=y_dbscan, cmap='plasma', marker='o', edgecolor='k')\n",
    "plt.title('DBSCAN Clustering (Iris Dataset)')\n",
    "plt.xlabel('Feature 1: Sepal Length')\n",
    "plt.ylabel('Feature 2: Sepal Width')\n",
    "plt.show()"
   ],
   "id": "fb60aebddb68b4a1",
   "outputs": [],
   "execution_count": null
  },
  {
   "metadata": {},
   "cell_type": "code",
   "source": [
    "# Оценка качества кластеризации для DBSCAN\n",
    "print(f'Silhouette Score for DBSCAN: {silhouette_score(X[y_dbscan != -1], y_dbscan[y_dbscan != -1])}\\n')"
   ],
   "id": "2ea1ce5e05db6650",
   "outputs": [],
   "execution_count": null
  },
  {
   "metadata": {},
   "cell_type": "code",
   "source": [
    "# 3. Агломеративная кластеризация (иерархическая кластеризация)\n",
    "print(\"3. Agglomerative Clustering\")\n",
    "agg_clust = AgglomerativeClustering(n_clusters=3, linkage='ward')\n",
    "y_agg = agg_clust.fit_predict(X)"
   ],
   "id": "70eace5045b773c9",
   "outputs": [],
   "execution_count": null
  },
  {
   "metadata": {},
   "cell_type": "code",
   "source": [
    "# Визуализация кластеров\n",
    "plot_clusters(X, y_agg, 'Agglomerative Clustering (Iris Dataset)')"
   ],
   "id": "b3c8379c86dab06d",
   "outputs": [],
   "execution_count": null
  },
  {
   "metadata": {},
   "cell_type": "code",
   "source": [
    "# Дендрограмма для агломеративной кластеризации\n",
    "plt.figure(figsize=(10, 7))\n",
    "linkage_matrix = linkage(X, method='ward')\n",
    "dendrogram(linkage_matrix)\n",
    "plt.title('Dendrogram for Agglomerative Clustering (Iris Dataset)')\n",
    "plt.xlabel('Sample index')\n",
    "plt.ylabel('Distance')\n",
    "plt.show()"
   ],
   "id": "e6df0029aa3710fb",
   "outputs": [],
   "execution_count": null
  },
  {
   "metadata": {},
   "cell_type": "code",
   "source": [
    "# Оценка качества кластеризации\n",
    "print(f'Silhouette Score for Agglomerative Clustering: {silhouette_score(X, y_agg)}\\n')"
   ],
   "id": "288559baf33bffb9",
   "outputs": [],
   "execution_count": null
  },
  {
   "metadata": {},
   "cell_type": "code",
   "source": [
    "# 4. Gaussian Mixture Model (GMM, вероятностная кластеризация)\n",
    "print(\"4. Gaussian Mixture Model Clustering\")\n",
    "gmm = GaussianMixture(n_components=3, random_state=42)\n",
    "y_gmm = gmm.fit_predict(X)"
   ],
   "id": "c4362c1553da22e2",
   "outputs": [],
   "execution_count": null
  },
  {
   "metadata": {},
   "cell_type": "code",
   "source": [
    "# Визуализация кластеров\n",
    "plot_clusters(X, y_gmm, 'Gaussian Mixture Model Clustering (Iris Dataset)')"
   ],
   "id": "44ece574e8be6327",
   "outputs": [],
   "execution_count": null
  },
  {
   "metadata": {},
   "cell_type": "code",
   "source": [
    "# Оценка качества кластеризации\n",
    "print(f'Silhouette Score for GMM: {silhouette_score(X, y_gmm)}\\n')"
   ],
   "id": "78cf42c53dec1700",
   "outputs": [],
   "execution_count": null
  }
 ],
 "metadata": {
  "kernelspec": {
   "display_name": "Python 3",
   "language": "python",
   "name": "python3"
  },
  "language_info": {
   "codemirror_mode": {
    "name": "ipython",
    "version": 2
   },
   "file_extension": ".py",
   "mimetype": "text/x-python",
   "name": "python",
   "nbconvert_exporter": "python",
   "pygments_lexer": "ipython2",
   "version": "2.7.6"
  }
 },
 "nbformat": 4,
 "nbformat_minor": 5
}
