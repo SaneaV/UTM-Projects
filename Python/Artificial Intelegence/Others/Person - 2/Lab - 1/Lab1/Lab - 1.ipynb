{
 "cells": [
  {
   "cell_type": "code",
   "id": "57f642d7dff3b530",
   "metadata": {},
   "source": [
    "# 1. Импортирование данных\n",
    "import pandas as pd\n",
    "import numpy as np\n",
    "import matplotlib.pyplot as plt\n",
    "import seaborn as sns\n",
    "%matplotlib inline"
   ],
   "outputs": [],
   "execution_count": null
  },
  {
   "metadata": {},
   "cell_type": "code",
   "source": [
    "\n",
    "# 2. Получение данных\n",
    "# Шаг 2: Чтение CSV файла Ecommerce Customers\n",
    "customers = pd.read_csv('Ecommerce Customers.csv')"
   ],
   "id": "c344302c22af3926",
   "outputs": [],
   "execution_count": null
  },
  {
   "metadata": {},
   "cell_type": "code",
   "source": [
    "# Шаг 3: Чтение первых строк и получение информации\n",
    "customers.head()\n",
    "customers.info()\n",
    "customers.describe()"
   ],
   "id": "a69a4082e767b9fa",
   "outputs": [],
   "execution_count": null
  },
  {
   "metadata": {},
   "cell_type": "code",
   "source": [
    "# 3. Исследовательский анализ данных\n",
    "# Шаг 4: Сравнение Time on Website и Yearly Amount Spent\n",
    "sns.jointplot(x='Time on Website', y='Yearly Amount Spent', data=customers)\n",
    "plt.show()"
   ],
   "id": "bcd52a663f24ef19",
   "outputs": [],
   "execution_count": null
  },
  {
   "metadata": {},
   "cell_type": "code",
   "source": [
    "# Шаг 5: Сравнение Time on App и Yearly Amount Spent\n",
    "sns.jointplot(x='Time on App', y='Yearly Amount Spent', data=customers)\n",
    "plt.show()"
   ],
   "id": "8f1d97756729f3fe",
   "outputs": [],
   "execution_count": null
  },
  {
   "metadata": {},
   "cell_type": "code",
   "source": [
    "# Шаг 6: Сравнение Time on App и Length of Membership\n",
    "sns.jointplot(x='Time on App', y='Length of Membership', data=customers, kind='hex')\n",
    "plt.show()"
   ],
   "id": "ff28716eec69a59c",
   "outputs": [],
   "execution_count": null
  },
  {
   "metadata": {},
   "cell_type": "code",
   "source": [
    "# Шаг 7: Использование pairplot для изучения взаимосвязей\n",
    "sns.pairplot(customers)\n",
    "plt.show()"
   ],
   "id": "1d7cf3cfb06d9dac",
   "outputs": [],
   "execution_count": null
  },
  {
   "metadata": {},
   "cell_type": "code",
   "source": [
    "# Шаг 8: Построение линейной модели для графика\n",
    "sns.lmplot(x='Length of Membership', y='Yearly Amount Spent', data=customers)\n",
    "plt.show()"
   ],
   "id": "df829d6b7aa8e922",
   "outputs": [],
   "execution_count": null
  },
  {
   "metadata": {},
   "cell_type": "code",
   "source": [
    "# 4. Данные для обучения и тестирования\n",
    "# Шаг 8: Определение переменных X и y\n",
    "X = customers[['Avg. Session Length', 'Time on App', 'Time on Website', 'Length of Membership']]\n",
    "y = customers['Yearly Amount Spent']"
   ],
   "id": "336687ee72be217e",
   "outputs": [],
   "execution_count": null
  },
  {
   "metadata": {},
   "cell_type": "code",
   "source": [
    "# Шаг 9: Разделение данных на обучающие и тестовые выборки\n",
    "from sklearn.model_selection import train_test_split\n",
    "X_train, X_test, y_train, y_test = train_test_split(X, y, test_size=0.3, random_state=101)"
   ],
   "id": "e20aa51bd9986fcd",
   "outputs": [],
   "execution_count": null
  },
  {
   "metadata": {},
   "cell_type": "code",
   "source": [
    "# 5. Обучение модели\n",
    "# Шаг 10: Импортирование LinearRegression\n",
    "from sklearn.linear_model import LinearRegression"
   ],
   "id": "8a69e531127ce983",
   "outputs": [],
   "execution_count": null
  },
  {
   "metadata": {},
   "cell_type": "code",
   "source": [
    "# Шаг 11: Создание экземпляра модели\n",
    "lm = LinearRegression()"
   ],
   "id": "e52b57f0b4b4eb37",
   "outputs": [],
   "execution_count": null
  },
  {
   "metadata": {},
   "cell_type": "code",
   "source": [
    "# Шаг 12: Обучение модели\n",
    "lm.fit(X_train, y_train)"
   ],
   "id": "5d2e12bb6f1e6211",
   "outputs": [],
   "execution_count": null
  },
  {
   "metadata": {},
   "cell_type": "code",
   "source": [
    "# Шаг 13: Вывод коэффициентов модели\n",
    "print(f'Коэффициенты модели: {lm.coef_}')"
   ],
   "id": "f6a2d32e74e72244",
   "outputs": [],
   "execution_count": null
  },
  {
   "metadata": {},
   "cell_type": "code",
   "source": [
    "# 6. Прогнозирование данных теста\n",
    "# Шаг 14: Прогнозирование для тестовой выборки\n",
    "predictions = lm.predict(X_test)\n",
    "plt.show()"
   ],
   "id": "36a0510278e97ae4",
   "outputs": [],
   "execution_count": null
  },
  {
   "metadata": {},
   "cell_type": "code",
   "source": [
    "# Шаг 15: Построение диаграммы рассеяния реальных и предсказанных значений\n",
    "plt.scatter(y_test, predictions)\n",
    "plt.xlabel('Реальные значения')\n",
    "plt.ylabel('Предсказанные значения')\n",
    "plt.title('Реальные vs предсказанные значения')\n",
    "plt.show()"
   ],
   "id": "bb94d1dfe5fcadc5",
   "outputs": [],
   "execution_count": null
  },
  {
   "metadata": {},
   "cell_type": "code",
   "source": [
    "# 7. Оценка модели\n",
    "# Шаг 16: Вычисление ошибок\n",
    "from sklearn import metrics\n",
    "print('Средняя абсолютная ошибка (MAE):', metrics.mean_absolute_error(y_test, predictions))\n",
    "print('Средняя квадратная ошибка (MSE):', metrics.mean_squared_error(y_test, predictions))\n",
    "print('Корень из средней квадратной ошибки (RMSE):', np.sqrt(metrics.mean_squared_error(y_test, predictions)))"
   ],
   "id": "181bbe8fbbacf1af",
   "outputs": [],
   "execution_count": null
  },
  {
   "metadata": {},
   "cell_type": "code",
   "source": [
    "# 8. Остатки\n",
    "# Шаг 17: Построение гистограммы остатков\n",
    "residuumi = y_test - predictions\n",
    "sns.histplot(residuumi, kde=True)"
   ],
   "id": "fb197eb8051dc06b",
   "outputs": [],
   "execution_count": null
  },
  {
   "metadata": {
    "collapsed": true
   },
   "cell_type": "code",
   "source": [
    "# 9. Заключение\n",
    "# Шаг 18: Воссоздание набора данных с коэффициентами\n",
    "coeficients = pd.DataFrame(lm.coef_, X.columns, columns=['Коэффициент'])\n",
    "coeficients"
   ],
   "id": "initial_id",
   "outputs": [],
   "execution_count": null
  }
 ],
 "metadata": {
  "kernelspec": {
   "display_name": "Python 3",
   "language": "python",
   "name": "python3"
  },
  "language_info": {
   "codemirror_mode": {
    "name": "ipython",
    "version": 2
   },
   "file_extension": ".py",
   "mimetype": "text/x-python",
   "name": "python",
   "nbconvert_exporter": "python",
   "pygments_lexer": "ipython2",
   "version": "2.7.6"
  }
 },
 "nbformat": 4,
 "nbformat_minor": 5
}
