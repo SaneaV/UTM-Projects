{
 "cells": [
  {
   "cell_type": "code",
   "id": "446e27c87230ba51",
   "metadata": {},
   "source": [
    "# 1. Классификатор на основе критерия Байеса: Наивный Байес\n",
    "# Концепция: Классификатор Наивный Байес использует теорему Байеса для вычисления вероятности каждого класса,\n",
    "# предполагая независимость признаков (наивное предположение). Класс с наибольшей вероятностью назначается как результат классификации.\n",
    "\n",
    "# Шаги реализации:\n",
    "# 1. Импортируем GaussianNB из sklearn.naive_bayes.\n",
    "# 2. Обучаем модель на тренировочных данных.\n",
    "# 3. Выполняем предсказание и оцениваем результаты.\n"
   ],
   "outputs": [],
   "execution_count": null
  },
  {
   "metadata": {},
   "cell_type": "code",
   "source": [
    "# Импортируем необходимые библиотеки\n",
    "import matplotlib.pyplot as plt\n",
    "import seaborn as sns\n",
    "from sklearn.naive_bayes import GaussianNB\n",
    "from sklearn.metrics import classification_report, confusion_matrix, accuracy_score\n",
    "from sklearn.model_selection import train_test_split\n",
    "from sklearn.datasets import load_iris"
   ],
   "id": "e82e9a4e93dbad9d",
   "outputs": [],
   "execution_count": null
  },
  {
   "metadata": {},
   "cell_type": "code",
   "source": [
    "# Загрузка данных\n",
    "X, y = load_iris(return_X_y=True)\n",
    "X_train, X_test, y_train, y_test = train_test_split(X, y, test_size=0.3, random_state=42)"
   ],
   "id": "709ba446d2acd6fc",
   "outputs": [],
   "execution_count": null
  },
  {
   "metadata": {},
   "cell_type": "code",
   "source": [
    "# Обучение модели\n",
    "nb_model = GaussianNB()\n",
    "nb_model.fit(X_train, y_train)\n",
    "y_pred = nb_model.predict(X_test)"
   ],
   "id": "5a0b17ff57a59c62",
   "outputs": [],
   "execution_count": null
  },
  {
   "metadata": {},
   "cell_type": "code",
   "source": [
    "# Оценка\n",
    "print(classification_report(y_test, y_pred))\n",
    "print(confusion_matrix(y_test, y_pred))\n",
    "print(\"Точность:\", accuracy_score(y_test, y_pred))"
   ],
   "id": "9e358eb40f2557f6",
   "outputs": [],
   "execution_count": null
  },
  {
   "metadata": {},
   "cell_type": "code",
   "source": [
    "# Визуализация: Матрица ошибок\n",
    "cm = confusion_matrix(y_test, y_pred)\n",
    "plt.figure(figsize=(6, 5))\n",
    "sns.heatmap(cm, annot=True, fmt=\"d\", cmap=\"Blues\", xticklabels=load_iris().target_names,\n",
    "            yticklabels=load_iris().target_names)\n",
    "plt.title(\"Матрица ошибок: Наивный Байес\")\n",
    "plt.xlabel('Предсказанные метки')\n",
    "plt.ylabel('Истинные метки')\n",
    "plt.show()"
   ],
   "id": "f5d9ff0853ca6ca7",
   "outputs": [],
   "execution_count": null
  },
  {
   "metadata": {},
   "cell_type": "code",
   "source": [
    "# 2. Классификатор на основе функций: Метод опорных векторов (SVM)\n",
    "# Концепция: Метод опорных векторов (SVM) строит гиперплоскость, разделяющую данные на разные классы, \n",
    "# оптимизируя разделительную границу между классами и минимизируя ошибки классификации.\n",
    "\n",
    "# Шаги реализации:\n",
    "# 1. Импортируем SVC из sklearn.svm.\n",
    "# 2. Обучаем модель с помощью тренировочных данных.\n",
    "# 3. Выполняем предсказание и оцениваем результаты.\n"
   ],
   "id": "a739b51f31461cf0",
   "outputs": [],
   "execution_count": null
  },
  {
   "metadata": {},
   "cell_type": "code",
   "source": [
    "from sklearn.svm import SVC\n",
    "import numpy as np\n",
    "\n",
    "# Используем только первые два признака для визуализации\n",
    "X_2D = X[:, :2]\n",
    "X_train, X_test, y_train, y_test = train_test_split(X_2D, y, test_size=0.3, random_state=42)"
   ],
   "id": "7b55b33768c08dbc",
   "outputs": [],
   "execution_count": null
  },
  {
   "metadata": {},
   "cell_type": "code",
   "source": [
    "# Обучение модели\n",
    "svm_model = SVC(kernel='linear')\n",
    "svm_model.fit(X_train, y_train)\n",
    "y_pred = svm_model.predict(X_test)"
   ],
   "id": "5b00012ca1532672",
   "outputs": [],
   "execution_count": null
  },
  {
   "metadata": {},
   "cell_type": "code",
   "source": [
    "# Оценка\n",
    "print(classification_report(y_test, y_pred))\n",
    "print(confusion_matrix(y_test, y_pred))\n",
    "print(\"Точность:\", accuracy_score(y_test, y_pred))"
   ],
   "id": "e21e4303bf687551",
   "outputs": [],
   "execution_count": null
  },
  {
   "metadata": {},
   "cell_type": "code",
   "source": [
    "# Визуализация: Граница принятия решений\n",
    "h = .02  # шаг для сетки\n",
    "x_min, x_max = X_2D[:, 0].min() - 1, X_2D[:, 0].max() + 1\n",
    "y_min, y_max = X_2D[:, 1].min() - 1, X_2D[:, 1].max() + 1\n",
    "xx, yy = np.meshgrid(np.arange(x_min, x_max, h), np.arange(y_min, y_max, h))\n",
    "\n",
    "Z = svm_model.predict(np.c_[xx.ravel(), yy.ravel()])\n",
    "Z = Z.reshape(xx.shape)\n",
    "\n",
    "plt.contourf(xx, yy, Z, alpha=0.75)\n",
    "plt.scatter(X_2D[:, 0], X_2D[:, 1], c=y, edgecolors='k', marker='o', s=50)\n",
    "plt.title(\"Граница принятия решений: Метод опорных векторов\")\n",
    "plt.xlabel('Признак 1')\n",
    "plt.ylabel('Признак 2')\n",
    "plt.show()"
   ],
   "id": "9b910d37f9a07537",
   "outputs": [],
   "execution_count": null
  },
  {
   "metadata": {},
   "cell_type": "code",
   "source": [
    "# 3. Классификатор на основе правил принятия решений: Дерево решений\n",
    "# Концепция: Классификаторы на основе дерева решений используют правила «если-то» для разбиения набора данных на подмножества.\n",
    "# Дерево представляет собой иерархическую структуру, в которой каждый узел соответствует признаку, а листья - классам.\n",
    "\n",
    "# Шаги реализации:\n",
    "# 1. Импортируем DecisionTreeClassifier из sklearn.tree.\n",
    "# 2. Обучаем модель на тренировочных данных.\n",
    "# 3. Выполняем предсказание и оцениваем результаты.\n"
   ],
   "id": "9083a6943e54cf5f",
   "outputs": [],
   "execution_count": null
  },
  {
   "metadata": {},
   "cell_type": "code",
   "source": [
    "from sklearn.tree import DecisionTreeClassifier, plot_tree\n",
    "\n",
    "# Обучение модели\n",
    "dt_model = DecisionTreeClassifier()\n",
    "dt_model.fit(X_train, y_train)\n",
    "y_pred = dt_model.predict(X_test)"
   ],
   "id": "48aca4af2e408d75",
   "outputs": [],
   "execution_count": null
  },
  {
   "metadata": {},
   "cell_type": "code",
   "source": [
    "# Оценка\n",
    "print(classification_report(y_test, y_pred))\n",
    "print(confusion_matrix(y_test, y_pred))\n",
    "print(\"Точность:\", accuracy_score(y_test, y_pred))"
   ],
   "id": "378e697234714795",
   "outputs": [],
   "execution_count": null
  },
  {
   "metadata": {},
   "cell_type": "code",
   "source": [
    "# Визуализация: Дерево решений\n",
    "plt.figure(figsize=(12, 8))\n",
    "plot_tree(dt_model, filled=True, feature_names=load_iris().feature_names, class_names=load_iris().target_names,\n",
    "          rounded=True)\n",
    "plt.title(\"Дерево решений\")\n",
    "plt.show()"
   ],
   "id": "134dfa8020a9bf79",
   "outputs": [],
   "execution_count": null
  },
  {
   "metadata": {
    "collapsed": true
   },
   "cell_type": "code",
   "source": [
    "# Визуализация: Матрица ошибок\n",
    "cm = confusion_matrix(y_test, y_pred)\n",
    "plt.figure(figsize=(6, 5))\n",
    "sns.heatmap(cm, annot=True, fmt=\"d\", cmap=\"Blues\", xticklabels=load_iris().target_names,\n",
    "            yticklabels=load_iris().target_names)\n",
    "plt.title(\"Матрица ошибок: Дерево решений\")\n",
    "plt.xlabel('Предсказанные метки')\n",
    "plt.ylabel('Истинные метки')\n",
    "plt.show()\n"
   ],
   "id": "initial_id",
   "outputs": [],
   "execution_count": null
  }
 ],
 "metadata": {
  "kernelspec": {
   "display_name": "Python 3",
   "language": "python",
   "name": "python3"
  },
  "language_info": {
   "codemirror_mode": {
    "name": "ipython",
    "version": 2
   },
   "file_extension": ".py",
   "mimetype": "text/x-python",
   "name": "python",
   "nbconvert_exporter": "python",
   "pygments_lexer": "ipython2",
   "version": "2.7.6"
  }
 },
 "nbformat": 4,
 "nbformat_minor": 5
}
