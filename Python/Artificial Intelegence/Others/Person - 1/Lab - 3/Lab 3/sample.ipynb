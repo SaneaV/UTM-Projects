{
 "cells": [
  {
   "metadata": {},
   "cell_type": "markdown",
   "source": [
    "Для выполнения задания я выберу несколько распространенных алгоритмов кластеризации из разных категорий, а также подготовлю данные, подходящие для демонстрации работы каждого алгоритма. Мы будем использовать библиотеку sklearn для реализации и визуализации, а также matplotlib и seaborn для отображения результатов.\n",
    "\n",
    "1. Подготовка окружения и создание данных\n",
    "\n",
    "Сначала настроим окружение и создадим данные, на которых будем применять алгоритмы кластеризации."
   ],
   "id": "109cee61c91299a7"
  },
  {
   "cell_type": "code",
   "id": "initial_id",
   "metadata": {
    "collapsed": true
   },
   "source": [
    "# Импорт необходимых библиотек\n",
    "import numpy as np\n",
    "import pandas as pd\n",
    "import matplotlib.pyplot as plt\n",
    "import seaborn as sns\n",
    "from sklearn.datasets import make_blobs, make_moons\n",
    "from sklearn.cluster import KMeans, DBSCAN, AgglomerativeClustering\n",
    "from sklearn.metrics import silhouette_score\n",
    "from scipy.cluster.hierarchy import dendrogram, linkage\n",
    "from sklearn.mixture import GaussianMixture\n",
    "\n",
    "sns.set(style=\"whitegrid\")\n",
    "\n",
    "# Генерация данных для кластеризации\n",
    "X_blobs, y_blobs = make_blobs(n_samples=500, centers=4, cluster_std=1.0, random_state=42)\n",
    "X_moons, y_moons = make_moons(n_samples=500, noise=0.1, random_state=42)\n"
   ],
   "outputs": [],
   "execution_count": null
  },
  {
   "metadata": {},
   "cell_type": "markdown",
   "source": [
    "2. Алгоритм K-Means (частичная кластеризация)\n",
    "\n",
    "K-means — это популярный метод частичной кластеризации, где данные распределяются в определенное количество кластеров, каждый из которых представлен своим центроидом. Процесс включает:\n",
    "\n",
    "- Инициализацию центроидов случайным образом.\n",
    "- Присвоение данных ближайшему центроиду.\n",
    "- Обновление положения центроидов на основе среднего значения данных в кластере.\n",
    "- Повторение шагов до сходимости."
   ],
   "id": "f02ffd815789ca74"
  },
  {
   "metadata": {},
   "cell_type": "code",
   "source": [
    "# K-Means с данными типа blobs\n",
    "kmeans = KMeans(n_clusters=4, random_state=42)\n",
    "y_kmeans = kmeans.fit_predict(X_blobs)\n",
    "\n",
    "# Визуализация кластеров\n",
    "plt.figure(figsize=(8, 6))\n",
    "plt.scatter(X_blobs[:, 0], X_blobs[:, 1], c=y_kmeans, cmap='viridis', marker='o', edgecolor='k')\n",
    "plt.scatter(kmeans.cluster_centers_[:, 0], kmeans.cluster_centers_[:, 1], s=300, c='red', label='Centroids')\n",
    "plt.title('K-Means Clustering')\n",
    "plt.xlabel('Feature 1')\n",
    "plt.ylabel('Feature 2')\n",
    "plt.legend()\n",
    "plt.show()\n",
    "\n",
    "# Оценка качества кластеризации с помощью силуэтного коэффициента\n",
    "print(f'Silhouette Score for K-Means: {silhouette_score(X_blobs, y_kmeans)}')\n"
   ],
   "id": "2c85739d4dfe1acc",
   "outputs": [],
   "execution_count": null
  },
  {
   "metadata": {},
   "cell_type": "markdown",
   "source": [
    "3. DBSCAN (кластеризация, основанная на плотности)\n",
    "\n",
    "DBSCAN — это алгоритм кластеризации на основе плотности, который объединяет точки, расположенные близко друг к другу, в кластеры, а удаленные точки считает шумом. Подходит для кластеров произвольной формы и устойчив к выбросам."
   ],
   "id": "49ccf6c78ea36e0a"
  },
  {
   "metadata": {},
   "cell_type": "code",
   "source": [
    "# DBSCAN с данными типа moons\n",
    "dbscan = DBSCAN(eps=0.2, min_samples=5)\n",
    "y_dbscan = dbscan.fit_predict(X_moons)\n",
    "\n",
    "# Визуализация кластеров\n",
    "plt.figure(figsize=(8, 6))\n",
    "plt.scatter(X_moons[:, 0], X_moons[:, 1], c=y_dbscan, cmap='plasma', marker='o', edgecolor='k')\n",
    "plt.title('DBSCAN Clustering')\n",
    "plt.xlabel('Feature 1')\n",
    "plt.ylabel('Feature 2')\n",
    "plt.show()\n",
    "\n",
    "# Оценка качества кластеризации для DBSCAN\n",
    "print(f'Silhouette Score for DBSCAN: {silhouette_score(X_moons[y_dbscan != -1], y_dbscan[y_dbscan != -1])}')\n"
   ],
   "id": "cd3282a5fe963471",
   "outputs": [],
   "execution_count": null
  },
  {
   "metadata": {},
   "cell_type": "markdown",
   "source": [
    "4. Агломеративная кластеризация (иерархическая кластеризация)\n",
    "\n",
    "Агломеративная кластеризация создает иерархию кластеров, начиная с того, что каждая точка является своим кластером, и объединяя кластеры на каждом шаге до тех пор, пока не останется только один кластер. Мы также можем визуализировать результаты с помощью дендрограммы."
   ],
   "id": "262c0d42f789b73"
  },
  {
   "metadata": {},
   "cell_type": "code",
   "source": [
    "# Агломеративная кластеризация\n",
    "agg_clust = AgglomerativeClustering(n_clusters=4, linkage='ward')\n",
    "y_agg = agg_clust.fit_predict(X_blobs)\n",
    "\n",
    "# Визуализация кластеров\n",
    "plt.figure(figsize=(8, 6))\n",
    "plt.scatter(X_blobs[:, 0], X_blobs[:, 1], c=y_agg, cmap='rainbow', marker='o', edgecolor='k')\n",
    "plt.title('Agglomerative Clustering')\n",
    "plt.xlabel('Feature 1')\n",
    "plt.ylabel('Feature 2')\n",
    "plt.show()\n",
    "\n",
    "# Дендрограмма для агломеративной кластеризации\n",
    "plt.figure(figsize=(10, 7))\n",
    "linkage_matrix = linkage(X_blobs, method='ward')\n",
    "dendrogram(linkage_matrix)\n",
    "plt.title('Dendrogram for Agglomerative Clustering')\n",
    "plt.xlabel('Sample index')\n",
    "plt.ylabel('Distance')\n",
    "plt.show()\n",
    "\n",
    "# Оценка качества кластеризации\n",
    "print(f'Silhouette Score for Agglomerative Clustering: {silhouette_score(X_blobs, y_agg)}')\n"
   ],
   "id": "d558f23501538398",
   "outputs": [],
   "execution_count": null
  },
  {
   "metadata": {},
   "cell_type": "markdown",
   "source": [
    "5. Gaussian Mixture Model (GMM, вероятностная кластеризация)\n",
    "\n",
    "GMM — это вероятностный алгоритм, использующий смеси многомерных нормальных распределений для моделирования данных. На каждом шаге оценивается вероятность того, что точка принадлежит каждому кластеру, затем рассчитываются параметры распределений."
   ],
   "id": "62da1abe5a6beba7"
  },
  {
   "metadata": {},
   "cell_type": "code",
   "source": [
    "# Gaussian Mixture Model для данных типа blobs\n",
    "gmm = GaussianMixture(n_components=4, random_state=42)\n",
    "y_gmm = gmm.fit_predict(X_blobs)\n",
    "\n",
    "# Визуализация кластеров\n",
    "plt.figure(figsize=(8, 6))\n",
    "plt.scatter(X_blobs[:, 0], X_blobs[:, 1], c=y_gmm, cmap='coolwarm', marker='o', edgecolor='k')\n",
    "plt.title('Gaussian Mixture Model Clustering')\n",
    "plt.xlabel('Feature 1')\n",
    "plt.ylabel('Feature 2')\n",
    "plt.show()\n",
    "\n",
    "# Оценка качества кластеризации\n",
    "print(f'Silhouette Score for GMM: {silhouette_score(X_blobs, y_gmm)}')\n"
   ],
   "id": "f397c10894ef3efc",
   "outputs": [],
   "execution_count": null
  }
 ],
 "metadata": {
  "kernelspec": {
   "display_name": "Python 3",
   "language": "python",
   "name": "python3"
  },
  "language_info": {
   "codemirror_mode": {
    "name": "ipython",
    "version": 2
   },
   "file_extension": ".py",
   "mimetype": "text/x-python",
   "name": "python",
   "nbconvert_exporter": "python",
   "pygments_lexer": "ipython2",
   "version": "2.7.6"
  }
 },
 "nbformat": 4,
 "nbformat_minor": 5
}
