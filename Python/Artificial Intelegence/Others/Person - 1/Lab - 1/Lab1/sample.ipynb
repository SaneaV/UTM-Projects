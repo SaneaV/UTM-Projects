{
 "cells": [
  {
   "metadata": {},
   "cell_type": "markdown",
   "source": "Шаг 1 — Импортируем необходимые библиотеки и настраиваем среду для отображения графиков.",
   "id": "28f1ce76e2d5e5c0"
  },
  {
   "metadata": {},
   "cell_type": "code",
   "source": [
    "# Импортируем необходимые библиотеки\n",
    "import pandas as pd       # Для работы с DataFrame\n",
    "import numpy as np        # Для работы с массивами и числовыми операциями\n",
    "import matplotlib.pyplot as plt  # Для построения графиков\n",
    "import seaborn as sns     # Для статистической визуализации данных\n",
    "\n",
    "# Настраиваем inline-режим для отображения графиков внутри Jupyter Notebook\n",
    "%matplotlib inline"
   ],
   "id": "fbc121e30a2defb3",
   "outputs": [],
   "execution_count": null
  },
  {
   "metadata": {},
   "cell_type": "markdown",
   "source": "Шаг 2 — Загружаем данные из файла Ecommerce Customers.csv и сохраняем их в DataFrame под именем customers.",
   "id": "a9b89a9465d90a83"
  },
  {
   "metadata": {},
   "cell_type": "code",
   "source": [
    "# Загружаем данные\n",
    "customers = pd.read_csv('Ecommerce Customers.csv')\n",
    "\n",
    "# Проверяем, что данные загружены корректно, выводя первые строки\n",
    "customers.head()\n"
   ],
   "id": "5d9d23c10df4d386",
   "outputs": [],
   "execution_count": null
  },
  {
   "metadata": {},
   "cell_type": "markdown",
   "source": "Шаг 3 — Изучаем основные сведения о данных с помощью функций info() и describe().\n",
   "id": "e1ae7d6387d3975e"
  },
  {
   "metadata": {},
   "cell_type": "code",
   "source": [
    "# Получаем информацию о типах данных и отсутствии значений\n",
    "customers.info()\n",
    "\n",
    "# Статистическое описание числовых колонок\n",
    "customers.describe()\n"
   ],
   "id": "e716ca7067155da2",
   "outputs": [],
   "execution_count": null
  },
  {
   "metadata": {},
   "cell_type": "markdown",
   "source": "Шаг 4 — Создаем график совместного распределения (jointplot) для сравнения колонок Time on Website и Yearly Amount Spent, чтобы посмотреть, есть ли между ними корреляция.",
   "id": "cad45f0ac48560a9"
  },
  {
   "metadata": {},
   "cell_type": "code",
   "source": [
    "# Построение графика совместного распределения для Time on Website и Yearly Amount Spent\n",
    "sns.jointplot(x='Time on Website', y='Yearly Amount Spent', data=customers)\n",
    "plt.show()\n"
   ],
   "id": "ea554f303615472a",
   "outputs": [],
   "execution_count": null
  },
  {
   "metadata": {},
   "cell_type": "markdown",
   "source": "Шаг 5 — Создаем двухмерный график (jointplot) для сравнения колонок Time on App и Length of Membership с использованием гексагональной сетки (hex plot).",
   "id": "b8be74e914c9cb84"
  },
  {
   "metadata": {},
   "cell_type": "code",
   "source": [
    "# Построение 2D-графика для Time on App и Length of Membership\n",
    "sns.jointplot(x='Time on App', y='Length of Membership', data=customers, kind='hex')\n",
    "plt.show()\n"
   ],
   "id": "b43a43848d9c25e0",
   "outputs": [],
   "execution_count": null
  },
  {
   "metadata": {},
   "cell_type": "markdown",
   "source": "Шаг 6 — Исследуем взаимосвязи между всеми числовыми признаками в наборе данных с помощью диаграммы pairplot.",
   "id": "a320194230f674bd"
  },
  {
   "metadata": {},
   "cell_type": "code",
   "source": [
    "# Построение pairplot для всех числовых данных\n",
    "sns.pairplot(customers)\n",
    "plt.show()"
   ],
   "id": "c8544b4b64553e46",
   "outputs": [],
   "execution_count": null
  },
  {
   "metadata": {},
   "cell_type": "markdown",
   "source": "Шаг 7 — Строим график линейной регрессии, чтобы увидеть зависимость между Yearly Amount Spent и Length of Membership.",
   "id": "c3700fc9e1453ee"
  },
  {
   "metadata": {},
   "cell_type": "code",
   "source": [
    "# Построение линейной регрессии для Yearly Amount Spent и Length of Membership\n",
    "sns.lmplot(x='Length of Membership', y='Yearly Amount Spent', data=customers)\n"
   ],
   "id": "c95bc8f9a63e78d2",
   "outputs": [],
   "execution_count": null
  },
  {
   "metadata": {},
   "cell_type": "markdown",
   "source": "Шаг 8 — Задаем переменные для моделей. Переменная X будет содержать числовые признаки клиентов, а переменная y — столбец Yearly Amount Spent.",
   "id": "144ee84d0b4f8ac0"
  },
  {
   "metadata": {},
   "cell_type": "code",
   "source": [
    "# Импортируем функцию для разделения данных\n",
    "from sklearn.model_selection import train_test_split\n",
    "\n",
    "# Определяем переменные X и y\n",
    "X = customers[['Avg. Session Length', 'Time on App', 'Time on Website', 'Length of Membership']]\n",
    "y = customers['Yearly Amount Spent']\n",
    "\n",
    "# Разделение данных на обучающую и тестовую выборки\n",
    "X_train, X_test, y_train, y_test = train_test_split(X, y, test_size=0.3, random_state=101)\n"
   ],
   "id": "162bb391105e204b",
   "outputs": [],
   "execution_count": null
  },
  {
   "metadata": {},
   "cell_type": "markdown",
   "source": "Шаг 9 — Используем модель линейной регрессии для обучения на данных и предсказания на тестовой выборке.",
   "id": "e35b05ec951ccc0e"
  },
  {
   "metadata": {},
   "cell_type": "code",
   "source": [
    "# Импортируем модель линейной регрессии\n",
    "from sklearn.linear_model import LinearRegression\n",
    "\n",
    "# Создаем экземпляр модели линейной регрессии\n",
    "lm = LinearRegression()\n",
    "\n",
    "# Обучаем модель на обучающих данных\n",
    "lm.fit(X_train, y_train)\n",
    "\n",
    "# Прогнозируем значения на тестовых данных\n",
    "y_pred = lm.predict(X_test)\n"
   ],
   "id": "ae6816902576f4f2",
   "outputs": [],
   "execution_count": null
  },
  {
   "metadata": {},
   "cell_type": "markdown",
   "source": "Шаг 10 — Напечатаем коэффициенты модели линейной регрессии, чтобы понять, как каждый признак влияет на предсказанную величину.",
   "id": "18ce130c4b04d8d1"
  },
  {
   "metadata": {},
   "cell_type": "code",
   "source": [
    "# Выводим коэффициенты модели\n",
    "print(f'Коэффициенты модели: {lm.coef_}')\n",
    "print(f'Перехват модели (intercept): {lm.intercept_}')\n"
   ],
   "id": "b9ffba716d0a9ef",
   "outputs": [],
   "execution_count": null
  },
  {
   "metadata": {},
   "cell_type": "markdown",
   "source": "Шаг 11 — Создаем экземпляр модели линейной регрессии и обучаем её на тренировочных данных. Этот шаг уже был частично выполнен в шаге 9, но давайте более детально разберем его:",
   "id": "a722588cabec75b0"
  },
  {
   "metadata": {},
   "cell_type": "code",
   "source": [
    "# Создаем экземпляр модели линейной регрессии\n",
    "lm = LinearRegression()\n",
    "\n",
    "# Обучаем модель на тренировочных данных\n",
    "lm.fit(X_train, y_train)\n"
   ],
   "id": "602b8bc5ba101b4e",
   "outputs": [],
   "execution_count": null
  },
  {
   "metadata": {},
   "cell_type": "markdown",
   "source": "Шаг 15 — Создаем диаграмму рассеяния для сравнения реальных значений и предсказанных значений.",
   "id": "ba28ab4e1233b6e1"
  },
  {
   "metadata": {},
   "cell_type": "code",
   "source": [
    "import matplotlib.pyplot as plt\n",
    "\n",
    "# Создаем диаграмму рассеяния реальных значений против предсказанных\n",
    "plt.figure(figsize=(10, 6))\n",
    "plt.scatter(y_test, y_pred)\n",
    "\n",
    "# Добавляем заголовки и метки\n",
    "plt.title('Реальные значения против предсказанных значений')\n",
    "plt.xlabel('Реальные значения (y_test)')\n",
    "plt.ylabel('Предсказанные значения (y_pred)')\n",
    "\n",
    "# Показываем график\n",
    "plt.show()\n"
   ],
   "id": "701142ea64cd2680",
   "outputs": [],
   "execution_count": null
  },
  {
   "metadata": {},
   "cell_type": "markdown",
   "source": "",
   "id": "1c2e2c5479ce70d7"
  },
  {
   "metadata": {},
   "cell_type": "markdown",
   "source": "Шаг 16 — Оценка производительности модели с помощью вычисления различных ошибок: средней абсолютной ошибки (MAE), средней квадратичной ошибки (MSE) и корня из средней квадратичной ошибки (RMSE).",
   "id": "5f570b56504c16dc"
  },
  {
   "metadata": {},
   "cell_type": "code",
   "source": [
    "from sklearn.metrics import mean_absolute_error, mean_squared_error\n",
    "import numpy as np\n",
    "\n",
    "# Вычисляем MAE (среднюю абсолютную ошибку)\n",
    "mae = mean_absolute_error(y_test, y_pred)\n",
    "\n",
    "# Вычисляем MSE (среднюю квадратичную ошибку)\n",
    "mse = mean_squared_error(y_test, y_pred)\n",
    "\n",
    "# Вычисляем RMSE (квадратный корень из средней квадратичной ошибки)\n",
    "rmse = np.sqrt(mse)\n",
    "\n",
    "# Выводим результаты\n",
    "print(f'MAE: {mae}')\n",
    "print(f'MSE: {mse}')\n",
    "print(f'RMSE: {rmse}')\n"
   ],
   "id": "d075f4b348d69f27",
   "outputs": [],
   "execution_count": null
  },
  {
   "metadata": {},
   "cell_type": "markdown",
   "source": "Шаг 17 — Анализируем остатки (резидуа) модели, чтобы убедиться, что они распределены нормально. Это важно для проверки того, насколько хорошо модель соответствует данным.",
   "id": "f6e832e8ffa58c29"
  },
  {
   "metadata": {},
   "cell_type": "code",
   "source": [
    "# Вычисляем остатки (разницу между реальными и предсказанными значениями)\n",
    "residuals = y_test - y_pred\n",
    "\n",
    "# Строим гистограмму остатков\n",
    "import seaborn as sns\n",
    "\n",
    "plt.figure(figsize=(10, 6))\n",
    "sns.histplot(residuals, kde=True)  # kde=True для добавления кривой плотности\n",
    "plt.title('Распределение остатков')\n",
    "plt.xlabel('Остатки')\n",
    "plt.ylabel('Частота')\n",
    "plt.show()\n"
   ],
   "id": "4affe282886edfc",
   "outputs": [],
   "execution_count": null
  },
  {
   "metadata": {},
   "cell_type": "markdown",
   "source": "Шаг 18 — Реконструируем набор данных, чтобы проанализировать коэффициенты модели и понять, какие переменные наиболее влияют на предсказания.",
   "id": "13ede552313d7ee3"
  },
  {
   "metadata": {},
   "cell_type": "code",
   "source": [
    "# Создаем DataFrame с коэффициентами\n",
    "coefficients = pd.DataFrame(lm.coef_, X_train.columns, columns=['Коэффициенты'])\n",
    "coefficients['Переменная'] = X_train.columns\n",
    "coefficients = coefficients[['Переменная', 'Коэффициенты']]\n",
    "\n",
    "# Выводим коэффициенты\n",
    "print(coefficients)\n"
   ],
   "id": "bdd3398cb5fc56ed",
   "outputs": [],
   "execution_count": null
  },
  {
   "metadata": {},
   "cell_type": "markdown",
   "source": [
    "Шаг 19 — Интерпретация коэффициентов модели.\n",
    "\n",
    "\n",
    "На этом шаге важно проанализировать полученные коэффициенты модели, чтобы понять, как каждая из характеристик влияет на предсказание целевой переменной (в данном случае **Yearly Amount Spent**).\n",
    "\n",
    "### Как интерпретировать коэффициенты:\n",
    "- **Положительный коэффициент** означает, что увеличение значения соответствующего признака ведет к увеличению предсказанного значения **Yearly Amount Spent**.\n",
    "- **Отрицательный коэффициент** означает, что увеличение значения признака приведет к уменьшению предсказанного значения **Yearly Amount Spent**.\n",
    "- **Размер коэффициента** отражает степень влияния признака. Чем больше абсолютное значение коэффициента, тем сильнее влияние признака на целевую переменную.\n",
    "\n",
    "### Пример интерпретации:\n",
    "Предположим, что у нас есть следующие коэффициенты:\n",
    "\n",
    "| Переменная             | Коэффициент  |\n",
    "|------------------------|-------------|\n",
    "| Time on App            | 0.2         |\n",
    "| Time on Website        | 0.1         |\n",
    "| Length of Membership    | 1.5         |\n",
    "\n",
    "1. **Time on App (0.2)**: Если клиент проводит 1 дополнительную минуту в приложении, сумма, потраченная им за год, увеличивается на 0.2 условных единиц.\n",
    "2. **Time on Website (0.1)**: Если клиент проводит 1 дополнительную минуту на сайте, сумма, потраченная им за год, увеличивается на 0.1 условных единиц.\n",
    "3. **Length of Membership (1.5)**: Каждый дополнительный год членства клиента увеличивает сумму, потраченную им за год, на 1.5 условных единицы.\n",
    "\n",
    "Из этого можно сделать вывод, что переменная **Length of Membership** имеет наибольшее влияние на **Yearly Amount Spent**, поскольку ее коэффициент самый большой. Это может означать, что для данной компании долгосрочные клиенты тратят гораздо больше денег по сравнению с новыми.\n",
    "\n",
    "### Важное замечание:\n",
    "Если значения коэффициентов кажутся неполными или трудными для интерпретации, стоит рассмотреть возможность использования нормализации или стандартизации данных. Это позволит улучшить интерпретацию значений коэффициентов, особенно если признаки имеют различные масштабы."
   ],
   "id": "65e4d4189e5854fc"
  },
  {
   "metadata": {},
   "cell_type": "markdown",
   "source": [
    "Шаг 20 — Ответ на вопрос: **Стоит ли компании сосредоточиться на мобильном приложении или на веб-сайте?**\n",
    "\n",
    "Для ответа на этот вопрос, мы должны внимательно проанализировать коэффициенты модели и их влияние на целевую переменную **Yearly Amount Spent**. Вопрос состоит в том, какой канал — мобильное приложение или веб-сайт — оказывает большее влияние на поведение клиентов в плане их трат.\n",
    "\n",
    "### Шаги для интерпретации:\n",
    "1. **Посмотрим на коэффициенты для переменных \"Time on App\" и \"Time on Website\"**:\n",
    "   - Если коэффициент для **Time on App** больше, это может означать, что время, проведенное в мобильном приложении, оказывает более сильное влияние на годовую сумму покупок, и компании стоит сосредоточить усилия на улучшении этого канала.\n",
    "   - Если коэффициент для **Time on Website** больше, это может указывать на то, что веб-сайт имеет большее влияние на поведение клиентов, и усилия стоит направить на его развитие.\n",
    "\n",
    "2. **Важность других факторов**:\n",
    "   - Стоит также учитывать **Length of Membership** — если этот коэффициент значительно больше, чем для других переменных, это может означать, что долгосрочные клиенты более важны, чем канал, через который они совершают покупки. В этом случае компании следует сосредоточиться на удержании клиентов, а не на выборе канала.\n",
    "\n",
    "### Пример интерпретации:\n",
    "Предположим, после анализа коэффициентов мы получаем такие значения:\n",
    "\n",
    "| Переменная             | Коэффициент  |\n",
    "|------------------------|-------------|\n",
    "| Time on App            | 0.2         |\n",
    "| Time on Website        | 0.1         |\n",
    "| Length of Membership    | 1.5         |\n",
    "\n",
    "- **Time on App** имеет больший коэффициент (0.2), чем **Time on Website** (0.1), что указывает на то, что время, проведенное в мобильном приложении, оказывает большее влияние на годовую сумму покупок. Следовательно, компании стоит сосредоточить усилия на улучшении мобильного приложения.\n",
    "- Однако, если **Length of Membership** имеет коэффициент 1.5, это указывает на то, что длительное членство имеет еще более значительное влияние. Это может означать, что компания должна сосредоточиться на удержании клиентов и улучшении их долгосрочного опыта, независимо от канала.\n",
    "\n",
    "### Вывод:\n",
    "Если коэффициенты **Time on App** и **Time on Website** не слишком отличаются, и **Length of Membership** имеет значительно более высокий коэффициент, это может означать, что время, проведенное в конкретном канале, не так важно, как продолжительность отношения с клиентом. В этом случае компании стоит сосредоточить усилия на создании долгосрочных отношений с клиентами.\n",
    "\n",
    "Если же разница в коэффициентах между мобильным приложением и веб-сайтом значительна, например, если коэффициент **Time on App** значительно больше, то это может говорить о важности мобильного приложения как канала продаж, и стоит усилить его развитие.\n",
    "\n",
    "Так или иначе, для окончательного решения важно учитывать все коэффициенты и принимать во внимание, что для успешной стратегии компании важны не только каналы, но и качественное взаимодействие с клиентами в целом."
   ],
   "id": "ff7896d7c0d19866"
  }
 ],
 "metadata": {
  "kernelspec": {
   "display_name": "Python 3",
   "language": "python",
   "name": "python3"
  },
  "language_info": {
   "codemirror_mode": {
    "name": "ipython",
    "version": 2
   },
   "file_extension": ".py",
   "mimetype": "text/x-python",
   "name": "python",
   "nbconvert_exporter": "python",
   "pygments_lexer": "ipython2",
   "version": "2.7.6"
  }
 },
 "nbformat": 4,
 "nbformat_minor": 5
}
